{
 "cells": [
  {
   "cell_type": "code",
   "execution_count": 29,
   "metadata": {},
   "outputs": [],
   "source": [
    "from selenium import webdriver\n",
    "from selenium.webdriver.edge.service import Service\n",
    "from selenium.webdriver.common.by import By\n",
    "\n",
    "import pandas as pd\n",
    "import numpy as np\n",
    "\n",
    "from time import sleep"
   ]
  },
  {
   "cell_type": "code",
   "execution_count": 30,
   "metadata": {},
   "outputs": [],
   "source": [
    "# We start by extracting all locations from our data (city, country)\n",
    "df = pd.read_csv('clean_flights.csv')\n",
    "locations = df[['city', 'country']].drop_duplicates().values\n",
    "distances = []"
   ]
  },
  {
   "cell_type": "code",
   "execution_count": 31,
   "metadata": {},
   "outputs": [],
   "source": [
    "PATH = r'C:\\Program Files\\Edge Driver\\msedgedriver.exe'\n",
    "\n",
    "service = Service(executable_path=PATH)\n",
    "driver = webdriver.Edge(service=service)\n",
    "# This website have a simple calculator that mesure the flight distance between 2 locations\n",
    "# it doesn't have any API, so we'll use Selenium\n",
    "driver.get(\"https://www.distancecalculator.net/\")\n",
    "sleep(5)"
   ]
  },
  {
   "cell_type": "code",
   "execution_count": 32,
   "metadata": {},
   "outputs": [],
   "source": [
    "driver.find_element(By.ID, \"distancefrom\").send_keys(\"Casablanca\")\n",
    "\n",
    "for location in locations :\n",
    "    to = driver.find_element(By.ID, \"distanceto\")\n",
    "    to.clear()\n",
    "    to.send_keys(', '.join(location))\n",
    "    driver.find_element(By.ID, \"hae\").click()\n",
    "    sleep(2)\n",
    "    distance = driver.find_element(By.ID, \"totaldistancekm\").text[:-3]\n",
    "    distances.append(float(distance))\n",
    "    "
   ]
  },
  {
   "cell_type": "code",
   "execution_count": 33,
   "metadata": {},
   "outputs": [],
   "source": [
    "driver.close()"
   ]
  },
  {
   "cell_type": "code",
   "execution_count": 62,
   "metadata": {},
   "outputs": [
    {
     "data": {
      "text/html": [
       "<div>\n",
       "<style scoped>\n",
       "    .dataframe tbody tr th:only-of-type {\n",
       "        vertical-align: middle;\n",
       "    }\n",
       "\n",
       "    .dataframe tbody tr th {\n",
       "        vertical-align: top;\n",
       "    }\n",
       "\n",
       "    .dataframe thead th {\n",
       "        text-align: right;\n",
       "    }\n",
       "</style>\n",
       "<table border=\"1\" class=\"dataframe\">\n",
       "  <thead>\n",
       "    <tr style=\"text-align: right;\">\n",
       "      <th></th>\n",
       "      <th>city</th>\n",
       "      <th>country</th>\n",
       "      <th>distance</th>\n",
       "    </tr>\n",
       "  </thead>\n",
       "  <tbody>\n",
       "    <tr>\n",
       "      <th>0</th>\n",
       "      <td>Catumbela</td>\n",
       "      <td>Angola</td>\n",
       "      <td>5693.07</td>\n",
       "    </tr>\n",
       "    <tr>\n",
       "      <th>1</th>\n",
       "      <td>Luanda</td>\n",
       "      <td>Angola</td>\n",
       "      <td>593.54</td>\n",
       "    </tr>\n",
       "    <tr>\n",
       "      <th>2</th>\n",
       "      <td>Anguilla</td>\n",
       "      <td>Anguilla</td>\n",
       "      <td>5732.29</td>\n",
       "    </tr>\n",
       "    <tr>\n",
       "      <th>3</th>\n",
       "      <td>Antigua</td>\n",
       "      <td>Antigua and Barbuda</td>\n",
       "      <td>5680.01</td>\n",
       "    </tr>\n",
       "    <tr>\n",
       "      <th>4</th>\n",
       "      <td>Buenos Aires</td>\n",
       "      <td>Argentina</td>\n",
       "      <td>9245.0</td>\n",
       "    </tr>\n",
       "    <tr>\n",
       "      <th>...</th>\n",
       "      <td>...</td>\n",
       "      <td>...</td>\n",
       "      <td>...</td>\n",
       "    </tr>\n",
       "    <tr>\n",
       "      <th>657</th>\n",
       "      <td>North Bend</td>\n",
       "      <td>United States</td>\n",
       "      <td>8870.61</td>\n",
       "    </tr>\n",
       "    <tr>\n",
       "      <th>658</th>\n",
       "      <td>Oakland</td>\n",
       "      <td>United States</td>\n",
       "      <td>9595.53</td>\n",
       "    </tr>\n",
       "    <tr>\n",
       "      <th>659</th>\n",
       "      <td>Orlando</td>\n",
       "      <td>United States</td>\n",
       "      <td>6897.8</td>\n",
       "    </tr>\n",
       "    <tr>\n",
       "      <th>660</th>\n",
       "      <td>Livingstone</td>\n",
       "      <td>Zambia</td>\n",
       "      <td>6731.92</td>\n",
       "    </tr>\n",
       "    <tr>\n",
       "      <th>661</th>\n",
       "      <td>Harare</td>\n",
       "      <td>Zimbabwe</td>\n",
       "      <td>7035.66</td>\n",
       "    </tr>\n",
       "  </tbody>\n",
       "</table>\n",
       "<p>662 rows × 3 columns</p>\n",
       "</div>"
      ],
      "text/plain": [
       "             city              country distance\n",
       "0       Catumbela               Angola  5693.07\n",
       "1          Luanda               Angola   593.54\n",
       "2        Anguilla             Anguilla  5732.29\n",
       "3         Antigua  Antigua and Barbuda  5680.01\n",
       "4    Buenos Aires            Argentina   9245.0\n",
       "..            ...                  ...      ...\n",
       "657    North Bend        United States  8870.61\n",
       "658       Oakland        United States  9595.53\n",
       "659       Orlando        United States   6897.8\n",
       "660   Livingstone               Zambia  6731.92\n",
       "661        Harare             Zimbabwe  7035.66\n",
       "\n",
       "[662 rows x 3 columns]"
      ]
     },
     "execution_count": 62,
     "metadata": {},
     "output_type": "execute_result"
    }
   ],
   "source": [
    "data = np.hstack((locations, np.array([distances]).reshape((662, 1))))\n",
    "df = pd.DataFrame(data, columns=['city', 'country', 'distance'])\n",
    "df.to_csv(\"new_features/distances.csv\", index=False)\n",
    "df"
   ]
  }
 ],
 "metadata": {
  "kernelspec": {
   "display_name": "Python 3",
   "language": "python",
   "name": "python3"
  },
  "language_info": {
   "name": "python",
   "version": "3.12.1"
  }
 },
 "nbformat": 4,
 "nbformat_minor": 2
}
