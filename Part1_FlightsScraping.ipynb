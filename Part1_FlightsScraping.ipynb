{
 "cells": [
  {
   "cell_type": "code",
   "execution_count": 260,
   "metadata": {},
   "outputs": [],
   "source": [
    "from selenium import webdriver\n",
    "from selenium.webdriver.edge.service import Service\n",
    "from selenium.webdriver.common.by import By\n",
    "from selenium.webdriver.common.action_chains import ActionChains\n",
    "from selenium.webdriver.support.ui import WebDriverWait\n",
    "from selenium.webdriver.support import expected_conditions as EC\n",
    "from selenium.common.exceptions import StaleElementReferenceException, TimeoutException, NoSuchElementException\n",
    "\n",
    "import pandas as pd\n",
    "import numpy as np\n",
    "from bs4 import BeautifulSoup\n",
    "\n",
    "from time import sleep"
   ]
  },
  {
   "cell_type": "code",
   "execution_count": 261,
   "metadata": {},
   "outputs": [],
   "source": [
    "PATH = r'C:\\Program Files\\Edge Driver\\msedgedriver.exe'\n",
    "\n",
    "service = Service(executable_path=PATH)\n",
    "driver = webdriver.Edge(service=service)\n",
    "\n",
    "driver.get(\"https://www.jetcost.ie/\")\n",
    "sleep(5)"
   ]
  },
  {
   "cell_type": "code",
   "execution_count": 262,
   "metadata": {},
   "outputs": [],
   "source": [
    "def by_xpath(path) :\n",
    "    global driver\n",
    "    return driver.find_element(By.XPATH, path)\n",
    "\n",
    "def xpath_click(path) :\n",
    "    by_xpath(path).click()"
   ]
  },
  {
   "cell_type": "code",
   "execution_count": 263,
   "metadata": {},
   "outputs": [],
   "source": [
    "xpath_click('//*[@id=\"iubenda-cs-banner\"]/div/div/div/div[3]/div[2]/button[1]') # Deny cookies\n",
    "xpath_click('//*[@id=\"base-search-form\"]/div/div/div[2]/div/form/div[2]/div[1]/div/label[2]/span') # one way\n",
    "xpath_click('//*[@id=\"base-search-form\"]/div/div/div[2]/div/form/div[2]/div[2]/div[1]/div[1]/div[1]/div/div[2]/div[1]') # departure\n",
    "typing1 = by_xpath('//*[@id=\"originFrom\"]')\n",
    "typing1.send_keys('casa')\n",
    "sleep(1)\n",
    "xpath_click('//*[@id=\"base-search-form\"]/div/div/div[2]/div/form/div[2]/div[2]/div[1]/div[1]/div[1]/div/div[3]/ul/li/div') # casablanca\n",
    "xpath_click('//*[@id=\"base-search-form\"]/div/div/div[2]/div/form/div[2]/div[2]/div[1]/div[1]/div[3]/div/div[2]/div[1]') # destination\n",
    "xpath_click('//*[@id=\"base-search-form\"]/div/div/div[2]/div/form/div[2]/div[2]/div[1]/div[1]/div[3]/div/div[3]/ul/li/div/span[2]') # everywhere\n",
    "xpath_click('//*[@id=\"base-search-form\"]/div/div/div[2]/div/form/div[2]/div[2]/div[1]/div[2]/div[1]/div/div[2]/input') # date\n",
    "xpath_click('//*[@id=\"base-search-form\"]/div/div/div[2]/div/form/div[2]/div[2]/div[1]/div[2]/div[1]/div/div[3]/div[1]/div[1]/div[3]/div[5]/div[5]/div') # day\n",
    "xpath_click('//*[@id=\"base-search-form\"]/div/div/div[2]/div/form/div[2]/div[1]/div/label[2]/span') # !return!\n",
    "xpath_click('//*[@id=\"base-search-form\"]/div/div/div[2]/div/form/div[2]/div[2]/div[2]/div/div[1]/button[1]') # search\n",
    "sleep(2)"
   ]
  },
  {
   "cell_type": "code",
   "execution_count": 264,
   "metadata": {},
   "outputs": [],
   "source": [
    "data = {'country': [],\n",
    "        'city': [],\n",
    "        'duration': [],\n",
    "        'trajectory': [],\n",
    "        'departure_time': [],\n",
    "        'arrival_time': [],\n",
    "        'airport_id': [],\n",
    "        'airline': [],\n",
    "        'price': []}"
   ]
  },
  {
   "cell_type": "code",
   "execution_count": 265,
   "metadata": {},
   "outputs": [
    {
     "name": "stdout",
     "output_type": "stream",
     "text": [
      "STARTING Yemen\n",
      "------STARTING Sanaa\n",
      "20 20 20 20 20 20 20 20 20 \n",
      "------ENDING Sanaa\n",
      "ENDING Yemen\n",
      "STARTING Zambia\n",
      "------STARTING Livingstone\n",
      "40 40 40 40 40 40 40 40 40 \n",
      "------ENDING Livingstone\n",
      "ENDING Zambia\n",
      "STARTING Zimbabwe\n",
      "------STARTING Harare\n",
      "60 60 60 60 60 60 60 60 60 \n",
      "------ENDING Harare\n",
      "ENDING Zimbabwe\n",
      "END\n"
     ]
    }
   ],
   "source": [
    "countries = driver.find_elements(By.XPATH, \"//span[@class='text-lg font-bold text-primary dark:text-primary-300 lg:px-2']\")\n",
    "\n",
    "for country in countries[208:] :\n",
    "    country_name = country.text\n",
    "    print(f'STARTING {country_name}')\n",
    "    country.click()\n",
    "    sleep(4)\n",
    "    \n",
    "    cities = driver.find_elements(By.XPATH, \"//div[@class='text-black dark:text-neutral-200 tedark:text-neutral-200xt-lg lg:text-md font-bold']\")\n",
    "    \n",
    "    for city in cities:\n",
    "        city_name = city.text.strip()\n",
    "        print(f'------STARTING {city_name}')\n",
    "        city.click()\n",
    "        sleep(6)\n",
    "        \n",
    "        driver.switch_to.window(driver.window_handles[1])\n",
    "        page_source = driver.page_source\n",
    "        soup = BeautifulSoup(page_source, 'html.parser')\n",
    "        \n",
    "        a = soup.find_all(\"div\", class_=\"flex items-center flex-col md:flex-row flex-wrap\")\n",
    "        \n",
    "        for d in a :\n",
    "            \n",
    "            duration = d.find(\"span\", class_=\"text-sm block text-gray-600 dark:text-neutral-100 truncate mb-1\")\n",
    "            if duration is not None:\n",
    "                data['duration'].append(duration.text)\n",
    "            else:\n",
    "                data['duration'].append(np.nan)\n",
    "            \n",
    "            price = d.find(\"span\", class_=\"inline-block font-bold md:text-black md:dark:text-neutral-200 text-xl md:text-3xl md:mb-2 whitespace-nowrap\")\n",
    "            if price is not None:\n",
    "                data['price'].append(price.text.replace('\\n', '').strip())\n",
    "            else:\n",
    "                data['price'].append(np.nan)\n",
    "\n",
    "            data['trajectory'].append(d.find_all(\"span\")[5].text)\n",
    "            \n",
    "            departure_time = d.find(\"span\", class_=\"font-bold sm:ml-1 lg:ml-2 md:text-md lg:text-lg xl:text-base\")\n",
    "            if departure_time is not None:\n",
    "                data['departure_time'].append(departure_time.text)\n",
    "            else:\n",
    "                data['departure_time'].append(np.nan)\n",
    "            \n",
    "            arrival_time = d.find(\"span\", class_=\"font-bold sm:mr-1 lg:mr-2 md:text-md lg:text-lg xl:text-base\")\n",
    "            if arrival_time is not None:\n",
    "                data['arrival_time'].append(arrival_time.text)\n",
    "            else:\n",
    "                data['arrival_time'].append(np.nan)\n",
    "            \n",
    "            airport_id = d.find_all(\"span\", class_=\"text-gray-600 dark:text-neutral-100 inline-block md:mb-px lg:mb-0\")\n",
    "            if (airport_id is not None) and (len(airport_id)>1) :\n",
    "                data['airport_id'].append(airport_id[1].text.replace('\\n', '').strip())\n",
    "            else:\n",
    "                data['airport_id'].append(np.nan)\n",
    "            \n",
    "            airline = d.find('img')\n",
    "            if airline is not None:\n",
    "                data['airline'].append(airline['src'])\n",
    "            else:\n",
    "                data['airline'].append(np.nan)\n",
    "        \n",
    "        data['city'] += [city_name]*len(a)\n",
    "        data['country'] += [country_name]*len(a)\n",
    "        \n",
    "        for k in data.keys() : \n",
    "            print(len(data[k]), end=' ')\n",
    "        print()\n",
    "        \n",
    "        print(f'------ENDING {city_name}')\n",
    "        \n",
    "        driver.close()\n",
    "        driver.switch_to.window(driver.window_handles[0])\n",
    "    \n",
    "    country.click()\n",
    "    print(f'ENDING {country_name}')\n",
    "    sleep(2)\n",
    "\n",
    "print('END')\n",
    "#322"
   ]
  },
  {
   "cell_type": "code",
   "execution_count": 266,
   "metadata": {},
   "outputs": [],
   "source": [
    "driver.quit()"
   ]
  },
  {
   "cell_type": "code",
   "execution_count": 267,
   "metadata": {},
   "outputs": [
    {
     "data": {
      "text/plain": [
       "country\n",
       "Yemen       20\n",
       "Zambia      20\n",
       "Zimbabwe    20\n",
       "Name: count, dtype: int64"
      ]
     },
     "execution_count": 267,
     "metadata": {},
     "output_type": "execute_result"
    }
   ],
   "source": [
    "df = pd.DataFrame(data)\n",
    "#df.drop(df.index[:20], inplace=True)\n",
    "#df.drop(df.index[-80:], inplace=True)\n",
    "df['country'].value_counts() #7"
   ]
  },
  {
   "cell_type": "code",
   "execution_count": 268,
   "metadata": {},
   "outputs": [],
   "source": [
    "df.to_csv('yfinale.csv')"
   ]
  },
  {
   "cell_type": "code",
   "execution_count": 269,
   "metadata": {},
   "outputs": [
    {
     "data": {
      "text/plain": [
       "32.35"
      ]
     },
     "execution_count": 269,
     "metadata": {},
     "output_type": "execute_result"
    }
   ],
   "source": [
    "647/20"
   ]
  }
 ],
 "metadata": {
  "kernelspec": {
   "display_name": "Python 3",
   "language": "python",
   "name": "python3"
  },
  "language_info": {
   "codemirror_mode": {
    "name": "ipython",
    "version": 3
   },
   "file_extension": ".py",
   "mimetype": "text/x-python",
   "name": "python",
   "nbconvert_exporter": "python",
   "pygments_lexer": "ipython3",
   "version": "3.12.1"
  }
 },
 "nbformat": 4,
 "nbformat_minor": 2
}
