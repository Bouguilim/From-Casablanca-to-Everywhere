{
 "cells": [
  {
   "cell_type": "code",
   "execution_count": 1,
   "metadata": {},
   "outputs": [],
   "source": [
    "import pandas as pd\n",
    "import matplotlib.pyplot as plt\n",
    "import missingno as msno"
   ]
  },
  {
   "cell_type": "code",
   "execution_count": 2,
   "metadata": {},
   "outputs": [
    {
     "data": {
      "text/html": [
       "<div>\n",
       "<style scoped>\n",
       "    .dataframe tbody tr th:only-of-type {\n",
       "        vertical-align: middle;\n",
       "    }\n",
       "\n",
       "    .dataframe tbody tr th {\n",
       "        vertical-align: top;\n",
       "    }\n",
       "\n",
       "    .dataframe thead th {\n",
       "        text-align: right;\n",
       "    }\n",
       "</style>\n",
       "<table border=\"1\" class=\"dataframe\">\n",
       "  <thead>\n",
       "    <tr style=\"text-align: right;\">\n",
       "      <th></th>\n",
       "      <th>Unnamed: 0</th>\n",
       "      <th>country</th>\n",
       "      <th>city</th>\n",
       "      <th>duration</th>\n",
       "      <th>trajectory</th>\n",
       "      <th>departure_time</th>\n",
       "      <th>arrival_time</th>\n",
       "      <th>airport_id</th>\n",
       "      <th>airline</th>\n",
       "      <th>price</th>\n",
       "    </tr>\n",
       "  </thead>\n",
       "  <tbody>\n",
       "    <tr>\n",
       "      <th>371</th>\n",
       "      <td>371</td>\n",
       "      <td>Aruba</td>\n",
       "      <td>Aruba</td>\n",
       "      <td>19h 50m</td>\n",
       "      <td>2 stops</td>\n",
       "      <td>19:00</td>\n",
       "      <td>10:50+1</td>\n",
       "      <td>AUA</td>\n",
       "      <td>https://jtc-fm.meta-cdn.net/cdn-cgi/image/widt...</td>\n",
       "      <td>€958</td>\n",
       "    </tr>\n",
       "    <tr>\n",
       "      <th>5618</th>\n",
       "      <td>402</td>\n",
       "      <td>India</td>\n",
       "      <td>Jaipur</td>\n",
       "      <td>20h 45m</td>\n",
       "      <td>2 stops</td>\n",
       "      <td>15:05</td>\n",
       "      <td>17:20+1</td>\n",
       "      <td>JAI</td>\n",
       "      <td>https://jtc-fm.meta-cdn.net/cdn-cgi/image/widt...</td>\n",
       "      <td>€685</td>\n",
       "    </tr>\n",
       "    <tr>\n",
       "      <th>6275</th>\n",
       "      <td>53</td>\n",
       "      <td>Italy</td>\n",
       "      <td>Bari</td>\n",
       "      <td>7h 15m</td>\n",
       "      <td>2 stops</td>\n",
       "      <td>10:30</td>\n",
       "      <td>18:45</td>\n",
       "      <td>BRI</td>\n",
       "      <td>https://jtc-fm.meta-cdn.net/cdn-cgi/image/widt...</td>\n",
       "      <td>€339</td>\n",
       "    </tr>\n",
       "    <tr>\n",
       "      <th>13361</th>\n",
       "      <td>40</td>\n",
       "      <td>United States</td>\n",
       "      <td>Atlanta</td>\n",
       "      <td>12h 26m</td>\n",
       "      <td>1 stop</td>\n",
       "      <td>16:05</td>\n",
       "      <td>00:31+1</td>\n",
       "      <td>ATL</td>\n",
       "      <td>https://jtc-fm.meta-cdn.net/cdn-cgi/image/widt...</td>\n",
       "      <td>€632</td>\n",
       "    </tr>\n",
       "    <tr>\n",
       "      <th>8186</th>\n",
       "      <td>264</td>\n",
       "      <td>Martinique</td>\n",
       "      <td>Fort-de-France</td>\n",
       "      <td>16h 5m</td>\n",
       "      <td>2 stops</td>\n",
       "      <td>08:10</td>\n",
       "      <td>20:15</td>\n",
       "      <td>FDF</td>\n",
       "      <td>https://jtc-fm.meta-cdn.net/cdn-cgi/image/widt...</td>\n",
       "      <td>€889</td>\n",
       "    </tr>\n",
       "  </tbody>\n",
       "</table>\n",
       "</div>"
      ],
      "text/plain": [
       "       Unnamed: 0        country            city duration trajectory  \\\n",
       "371           371          Aruba           Aruba  19h 50m    2 stops   \n",
       "5618          402          India          Jaipur  20h 45m    2 stops   \n",
       "6275           53          Italy            Bari   7h 15m    2 stops   \n",
       "13361          40  United States         Atlanta  12h 26m     1 stop   \n",
       "8186          264     Martinique  Fort-de-France   16h 5m    2 stops   \n",
       "\n",
       "      departure_time arrival_time airport_id  \\\n",
       "371            19:00      10:50+1        AUA   \n",
       "5618           15:05      17:20+1        JAI   \n",
       "6275           10:30        18:45        BRI   \n",
       "13361          16:05      00:31+1        ATL   \n",
       "8186           08:10        20:15        FDF   \n",
       "\n",
       "                                                 airline price  \n",
       "371    https://jtc-fm.meta-cdn.net/cdn-cgi/image/widt...  €958  \n",
       "5618   https://jtc-fm.meta-cdn.net/cdn-cgi/image/widt...  €685  \n",
       "6275   https://jtc-fm.meta-cdn.net/cdn-cgi/image/widt...  €339  \n",
       "13361  https://jtc-fm.meta-cdn.net/cdn-cgi/image/widt...  €632  \n",
       "8186   https://jtc-fm.meta-cdn.net/cdn-cgi/image/widt...  €889  "
      ]
     },
     "metadata": {},
     "output_type": "display_data"
    },
    {
     "name": "stdout",
     "output_type": "stream",
     "text": [
      "The original dataset has :  14148  rows.\n"
     ]
    }
   ],
   "source": [
    "# Let's read our scrapped data\n",
    "df = pd.read_csv('flights.csv')\n",
    "display(df.sample(5, random_state=19))\n",
    "print(\"The original dataset has : \", len(df), \" rows.\")"
   ]
  },
  {
   "cell_type": "code",
   "execution_count": 3,
   "metadata": {},
   "outputs": [
    {
     "data": {
      "text/plain": [
       "Index(['Unnamed: 0', 'country', 'city', 'duration', 'trajectory',\n",
       "       'departure_time', 'arrival_time', 'airport_id', 'airline', 'price'],\n",
       "      dtype='object')"
      ]
     },
     "execution_count": 3,
     "metadata": {},
     "output_type": "execute_result"
    }
   ],
   "source": [
    "# Let's check the column names\n",
    "df.columns"
   ]
  },
  {
   "cell_type": "code",
   "execution_count": 4,
   "metadata": {},
   "outputs": [
    {
     "data": {
      "text/plain": [
       "Index(['country', 'city', 'duration', 'trajectory', 'departure_time',\n",
       "       'arrival_time', 'airport_id', 'airline', 'price'],\n",
       "      dtype='object')"
      ]
     },
     "execution_count": 4,
     "metadata": {},
     "output_type": "execute_result"
    }
   ],
   "source": [
    "# We'll drop the first column as it's useless\n",
    "df.drop('Unnamed: 0', axis=1, inplace=True)\n",
    "df.columns"
   ]
  },
  {
   "cell_type": "code",
   "execution_count": 5,
   "metadata": {},
   "outputs": [
    {
     "data": {
      "text/plain": [
       "1400"
      ]
     },
     "execution_count": 5,
     "metadata": {},
     "output_type": "execute_result"
    }
   ],
   "source": [
    "# Let's check how many rows have missing data\n",
    "(df.isnull().sum(axis=1) > 0).sum()\n",
    "# That's represent 10% of the original data "
   ]
  },
  {
   "cell_type": "code",
   "execution_count": 6,
   "metadata": {},
   "outputs": [
    {
     "data": {
      "text/plain": [
       "<AxesSubplot: >"
      ]
     },
     "execution_count": 6,
     "metadata": {},
     "output_type": "execute_result"
    },
    {
     "data": {
      "image/png": "[encoded data removed]",
      "text/plain": [
       "<Figure size 2500x1000 with 2 Axes>"
      ]
     },
     "metadata": {},
     "output_type": "display_data"
    }
   ],
   "source": [
    "# Let us check the distribution of missing data\n",
    "msno.matrix(df)\n",
    "# We can see that those rows have missing values in 6 columns\n",
    "# It is better to drop those rows as we can't impute them"
   ]
  },
  {
   "cell_type": "code",
   "execution_count": 7,
   "metadata": {},
   "outputs": [
    {
     "name": "stdout",
     "output_type": "stream",
     "text": [
      "Now the dataset is reduced to :  12748  rows.\n"
     ]
    }
   ],
   "source": [
    "df.dropna(inplace=True)\n",
    "print(\"Now the dataset is reduced to : \", len(df), \" rows.\")"
   ]
  },
  {
   "cell_type": "markdown",
   "metadata": {},
   "source": [
    "### Country & City"
   ]
  },
  {
   "cell_type": "code",
   "execution_count": 8,
   "metadata": {},
   "outputs": [
    {
     "name": "stdout",
     "output_type": "stream",
     "text": [
      "We have  182  different country.\n"
     ]
    },
    {
     "data": {
      "text/plain": [
       "array(['Angola', 'Anguilla', 'Antigua and Barbuda', 'Argentina',\n",
       "       'Armenia', 'Aruba', 'Australia', 'Austria', 'Azerbaijan',\n",
       "       'Bahamas', 'Bahrain', 'Bangladesh', 'Barbados', 'Belgium',\n",
       "       'Belize', 'Benin', 'Bermuda', 'Bolivia', 'Bosnia and Herzegovina',\n",
       "       'Botswana', 'Brazil', 'Canada', 'Afghanistan', 'Albania',\n",
       "       'Brunei Darussalam', 'Bulgaria', 'Burkina Faso', 'Burundi',\n",
       "       'Cameroon', 'Cape Verde', 'Caribbean Netherlands',\n",
       "       'Cayman Islands', 'Chile', 'China', 'Colombia', 'Cook Islands',\n",
       "       'Costa Rica', \"Côte d'Ivoire\", 'Croatia', 'Cuba', 'Curacao',\n",
       "       'Cyprus', 'Czech Republic', 'Democratic Republic of the Congo',\n",
       "       'Denmark', 'Djibouti', 'Dominica', 'Dominican Republic', 'Ecuador',\n",
       "       'Egypt', 'El Salvador', 'Equatorial Guinea', 'Eritrea', 'Estonia',\n",
       "       'Ethiopia', 'Faroe Islands', 'Fiji', 'Finland', 'French Guyana',\n",
       "       'French Polynesia', 'Gabon', 'Gambia', 'Georgia', 'France',\n",
       "       'Algeria', 'Slovakia', 'Germany', 'Ghana', 'Gibraltar', 'Greece',\n",
       "       'Guam', 'Guatemala', 'Guinea', 'Guinea-Bissau', 'Haiti',\n",
       "       'Honduras', 'Hong Kong', 'Hungary', 'Iceland', 'India',\n",
       "       'Indonesia', 'Iran', 'Iraq', 'Ireland', 'Italy', 'Jamaica',\n",
       "       'Japan', 'Jordan', 'Kazakhstan', 'Kenya', 'Kosovo', 'Kuwait',\n",
       "       'Kyrgyzstan', 'Latvia', 'Lebanon', 'Lesotho', 'Lithuania',\n",
       "       'Luxembourg', 'Macao', 'Macedonia', 'Madagascar', 'Slovenia',\n",
       "       'Somalia', 'South Africa', 'South Korea', 'Monaco', 'Mongolia',\n",
       "       'Montenegro', 'Morocco', 'Mozambique', 'Myanmar', 'Namibia',\n",
       "       'Nepal', 'Netherlands', 'New Caledonia', 'Malaysia', 'Maldives',\n",
       "       'Malta', 'Martinique', 'Mauritania', 'Mauritius', 'Mayotte',\n",
       "       'Mexico', 'New Zealand', 'Nicaragua', 'Niger', 'Nigeria',\n",
       "       'Northern Mariana Islands', 'Norway', 'Oman', 'Pakistan', 'Panama',\n",
       "       'Papua New Guinea', 'Paraguay', 'Peru', 'Philippines', 'Poland',\n",
       "       'Portugal', 'Puerto Rico', 'Qatar', 'Republic of the Congo',\n",
       "       'Réunion', 'Romania', 'Russian Federation', 'Rwanda',\n",
       "       'Saint Barthelemy', 'Saint Kitts and Nevis', 'Saint Lucia',\n",
       "       'Saint Martin', 'Saint Vincent and the Grenadines', 'Samoa',\n",
       "       'Saudi Arabia', 'Senegal', 'Serbia', 'Seychelles', 'Sierra Leone',\n",
       "       'Singapore', 'Spain', 'Sri Lanka', 'Suriname', 'Switzerland',\n",
       "       'Taiwan', 'Tajikistan', 'Tanzania', 'Thailand',\n",
       "       'Trinidad and Tobago', 'Tunisia', 'Turkey', 'Turkmenistan',\n",
       "       'Turks and Caicos Islands', 'Uganda', 'United Arab Emirates',\n",
       "       'United Kingdom', 'United States Virgin Islands', 'Uruguay',\n",
       "       'Uzbekistan', 'Vanuatu', 'Venezuela', 'Vietnam', 'United States',\n",
       "       'Zambia', 'Zimbabwe'], dtype=object)"
      ]
     },
     "execution_count": 8,
     "metadata": {},
     "output_type": "execute_result"
    }
   ],
   "source": [
    "print(\"We have \", len(df['country'].unique()), \" different country.\")\n",
    "df['country'].unique()\n",
    "# This column is clean"
   ]
  },
  {
   "cell_type": "code",
   "execution_count": 9,
   "metadata": {},
   "outputs": [
    {
     "name": "stdout",
     "output_type": "stream",
     "text": [
      "We have  661  different city.\n"
     ]
    },
    {
     "data": {
      "text/plain": [
       "array(['Catumbela', 'Luanda', 'Anguilla', 'Antigua', 'Buenos Aires',\n",
       "       'Córdoba', 'El Califate', 'Iguazu', 'Mar Del Plata', 'Mendoza',\n",
       "       'Neuquen', 'Rosario', 'Salta', 'San Carlos de Bariloche',\n",
       "       'Tucuman', 'Ushuaia', 'Yerevan', 'Aruba', 'Adelaide',\n",
       "       'Alice Springs', 'Brisbane', 'Cairns', 'Gold Coast',\n",
       "       'Hamilton Island', 'Hobart', 'Melbourne', 'Perth', 'Sydney',\n",
       "       'Graz', 'Innsbruck', 'Klagenfurt', 'Linz', 'Salzburg', 'Vienna',\n",
       "       'Baku', 'Nassau', 'Bahrain', \"Cox's Bazar\", 'Dhaka', 'Barbados',\n",
       "       'Antwerp', 'Brussels', 'Belize', 'Cotonou', 'Bermuda',\n",
       "       'Cochabamba', 'La Paz', 'Santa Cruz', 'Sucre', 'Sarajevo', 'Maun',\n",
       "       'São Paulo', 'Belem', 'Belo Horizonte', 'Brasília', 'Curitiba',\n",
       "       'Florianópolis', 'Fortaleza', 'Goiania', 'Joao Pessoa', 'Maceio',\n",
       "       'Manaus', 'Natal', 'Porto Alegre', 'Rio de Janeiro', 'Salvador',\n",
       "       'Teresina', 'Montreal', 'Calgary', 'Vancouver', 'Edmonton',\n",
       "       'Halifax', 'Kelowna', 'Ottawa', 'Quebec', 'Saint Johns',\n",
       "       'Thunder Bay', 'Toronto', 'Winnipeg', 'Kabul', 'Tirana',\n",
       "       'Bandar Seri Begawan', 'Sofia', 'Varna', 'Ouagadougou',\n",
       "       'Bujumbura', 'Douala', 'Boavista', 'Praia', 'Sal', 'Sao Vicente',\n",
       "       'Bonaire', 'Grand Cayman', 'Antofagasta', 'Arica', 'Concepcion',\n",
       "       'Copiapo', 'Easter Island', 'Iquique', 'La Serena', 'Puerto Montt',\n",
       "       'Punta Arenas', 'Santiago de Chile', 'Beijing', 'Chengdu',\n",
       "       'Chongqing', 'Guangzhou', 'Guilin', 'Hangzhou', 'Jiuzhaigou',\n",
       "       'Kunming', 'Lhasa', 'Lijiang City', 'Shanghai', 'Shenzhen',\n",
       "       'Barranquilla', 'Bogota', 'Bucaramanga', 'Cali',\n",
       "       'Cartagena de Indias', 'Cucuta', 'Medellin', 'Pereira',\n",
       "       'San Andres Island', 'Santa Marta', 'Rarotonga', 'San José',\n",
       "       'Abidjan', 'Dubrovnik', 'Split', 'Zadar', 'Zagreb', 'Camaguey',\n",
       "       'Cayo Coco', 'Havana', 'Holguin', 'Santa Clara',\n",
       "       'Santiago de Cuba', 'Varadero', 'Curacao', 'Larnaca', 'Paphos',\n",
       "       'Prague', 'Kinshasa', 'Aalborg', 'Aarhus', 'Billund', 'Bornholm',\n",
       "       'Copenhagen', 'Karup', 'Sonderborg', 'Djibouti', 'Dominica',\n",
       "       'La Romana', 'Puerto Plata', 'Punta Cana', 'Galapagos Islands',\n",
       "       'Guayaquil', 'Quito', 'Abu Simbel', 'Alexandria', 'Aswan', 'Cairo',\n",
       "       'Hurghada', 'Luxor', 'Marsa Alam', 'Sharm El Sheikh', 'Sohag',\n",
       "       'San Salvador', 'Malabo', 'Asmara', 'Tallinn', 'Addis Ababa',\n",
       "       'Faroe Islands', 'Nadi', 'Helsinki', 'Kokkola/Pietarsaari',\n",
       "       'Kuopio', 'Kuusamo', 'Oulu', 'Rovaniemi', 'Tampere', 'Turku',\n",
       "       'Vaasa', 'Cayenne', 'Tahiti', 'Libreville', 'Banjul', 'Batumi',\n",
       "       'Kutaisi', 'Tbilisi', 'Montpellier', 'Paris', 'Lyon', 'Marseille',\n",
       "       'Bordeaux', 'Ajaccio', 'Bastia', 'Nantes', 'Figari',\n",
       "       'Biarritz-Anglet-Bayonne', 'Grenoble', 'Lille', 'Brest',\n",
       "       'Clermont-Ferrand', 'Chambery', 'Metz/Nancy', 'Nice', 'Perpignan',\n",
       "       'Rennes', 'Strasbourg', 'Toulon', 'Toulouse', 'Algiers', 'Bejaia',\n",
       "       'Annaba', 'Djanet', 'Constantine', 'Oran', 'Setif', 'Bratislava',\n",
       "       'Berlin', 'Bonn', 'Bremen', 'Dortmund', 'Düsseldorf', 'Frankfurt',\n",
       "       'Hamburg', 'Hannover', 'Leipzig', 'Munich', 'Nuremberg',\n",
       "       'Stuttgart', 'Accra', 'Gibraltar', 'Athens', 'Chios', 'Crete',\n",
       "       'Kefallinia', 'Kerkyra', 'Kos', 'Mykonos', 'Rhodes',\n",
       "       'Thessaloniki', 'Thira', 'Zakinthos', 'Guam', 'Guatemala City',\n",
       "       'Conakry', 'Bissau', 'Port-au-Prince', 'Tegucigalpa', 'Hong Kong',\n",
       "       'Budapest', 'Debrecen', 'Reykjavík', 'Ahmedabad', 'Bangalore',\n",
       "       'Chandigarh', 'Chennai', 'Delhi', 'Goa', 'Hyderabad', 'Jaipur',\n",
       "       'Kochi', 'Kolkata', 'Kozhikode', 'Mumbai', 'Port Blair',\n",
       "       'Tiruchirapalli', 'Bali', 'Balikpapan (Sepinggan)', 'Jakarta',\n",
       "       'Manado', 'Semarang', 'Sorong (Jefman)', 'Surabaya',\n",
       "       'Ujung Pandang', 'Yogyakarta', 'Tehran', 'Arbil', 'Baghdad',\n",
       "       'Basra', 'Najaf', 'Sulaymaniyah', 'Carrickfinn', 'Cork', 'Dublin',\n",
       "       'Knock', 'Shannon', 'Alghero', 'Ancona', 'Bari', 'Bologna',\n",
       "       'Brindisi', 'Cagliari', 'Catania', 'Comiso', 'Florence',\n",
       "       'Lamezia Terme', 'Lampedusa', 'Milan', 'Naples', 'Olbia',\n",
       "       'Palermo', 'Pantelleria', 'Pescara', 'Pisa', 'Reggio Calabria',\n",
       "       'Rimini', 'Rome', 'Montego Bay', 'Fukuoka', 'Nagasaki', 'Nagoya',\n",
       "       'Okinawa', 'Osaka', 'Sapporo', 'Tokyo', 'Amman', 'Almaty',\n",
       "       'Nairobi', 'Prishtina', 'Kuwait', 'Bishkek', 'Riga', 'Beirut',\n",
       "       'Maseru', 'Vilnius', 'Luxembourg', 'Macau', 'Skopje',\n",
       "       'Antananarivo', 'Ljubljana', 'Mogadishu', 'Cape Town', 'Durban',\n",
       "       'George', 'Johannesburg', 'Nelspruit (Mpumalanga)',\n",
       "       'Port Elizabeth', 'Upington', 'Jeju City', 'Kwangju', 'Pusan',\n",
       "       'Seoul', 'Monte Carlo', 'Ulaanbaatar', 'Podgorica', 'Agadir',\n",
       "       'Dakhla', 'Fez', 'Laayoune', 'Marrakesh', 'Nador', 'Ouarzazate',\n",
       "       'Oujda', 'Rabat', 'Tangier', 'Maputo', 'Yangon', 'Windhoek',\n",
       "       'Kathmandu', 'Amsterdam', 'Eindhoven', 'Maastricht', 'Rotterdam',\n",
       "       'Nouméa', 'Ipoh', 'Johor Bahru', 'Kota Kinabalu', 'Kuala Lumpur',\n",
       "       'Kuching', 'Langkawi', 'Miri', 'Mulu', 'Penang', 'Tawau', 'Male',\n",
       "       'Malta (Luqa)', 'Fort-de-France', 'Nouakchott', 'Mauritius',\n",
       "       'Mayotte (Dzaoudzi)', 'Acapulco', 'Cancun', 'Chihuahua', 'Cozumel',\n",
       "       'Guadalajara', 'Leon', 'Merida', 'Mexico City', 'Monterrey',\n",
       "       'Puerto Escondido', 'Puerto Vallarta', 'San Jose del Cabo',\n",
       "       'Tijuana', 'Auckland', 'Christchurch', 'Dunedin', 'Queenstown',\n",
       "       'Rotorua', 'Wellington', 'Managua', 'Niamey', 'Lagos', 'Saipan',\n",
       "       'Aalesund', 'Bergen', 'Bodo', 'Haugesund', 'Kristiansand',\n",
       "       'Leknes', 'Oslo', 'Sandane', 'Stavanger', 'Tromso', 'Trondheim',\n",
       "       'Muscat', 'Gilgit', 'Islamabad', 'Karachi', 'Lahore', 'Multan',\n",
       "       'Peshawar', 'Quetta', 'Sialkot', 'Panama City', 'Port Moresby',\n",
       "       'Asunción', 'Arequipa', 'Cajamarca', 'Chiclayo', 'Cuzco',\n",
       "       'Iquitos', 'Jauja', 'Juliaca', 'Lima', 'Piura', 'Tarapoto',\n",
       "       'Trujillo', 'Tumbes', 'Bacolod', 'Cebu', 'Davao', 'Iloilo',\n",
       "       'Luzon Island', 'Manila', 'Puerto Princesa', 'Tacloban',\n",
       "       'Zamboanga', 'Gdansk', 'Katowice', 'Poznan', 'Rzeszow', 'Warsaw',\n",
       "       'Wroclaw', 'Faro', 'Funchal', 'Horta', 'Lisbon', 'Ponta Delgada',\n",
       "       'Porto', 'Porto Santo', 'Terceira', 'Aguadilla', 'San Juan',\n",
       "       'Doha', 'Brazzaville', 'Saint Denis de la Reunion', 'Bacau',\n",
       "       'Bucharest', 'Cluj-Napoca', 'Craiova', 'Iași', 'Oradea',\n",
       "       'Satu Mare', 'Sibiu', 'Timisoara', 'Tirgu Mures (Vidrasau)',\n",
       "       'Adler/Sochi', 'Ekaterinburg', 'Irkutsk', 'Kazan', 'Moscow',\n",
       "       'Novosibirsk', 'Saint Petersburg', 'Samara', 'Kigali',\n",
       "       'Saint Barthelemy', 'Saint Kitts', 'Saint Lucia Windward Islands',\n",
       "       'Saint Martin', 'Saint Vincent', 'Apia', 'Riyadh', 'Dakar',\n",
       "       'Belgrade', 'Mahe Island', 'Freetown', 'Singapur', 'Alicante',\n",
       "       'Almeria', 'Asturias', 'Barcelona', 'Bilbao', 'Corvera',\n",
       "       'Fuerteventura', 'Granada', 'Ibiza', 'Jerez de la Frontera',\n",
       "       'La Coruña', 'Lanzarote', 'Las Palmas de Gran Canaria', 'León',\n",
       "       'Madrid', 'Málaga', 'Menorca', 'Palma de Mallorca',\n",
       "       'San Sebastián', 'San Sebastian de la Gomera', 'Santander',\n",
       "       'Santiago de Compostela', 'Seville', 'Tenerife', 'Valencia',\n",
       "       'Colombo', 'Paramaribo', 'Altenrhein', 'Basel / Mulhouse',\n",
       "       'Geneva', 'Zurich', 'Hualien', 'Kaohsiung', 'Kinmen',\n",
       "       'Taichung City', 'Taipei', 'Taitung', 'Dushanbe', 'Dar Es Salaam',\n",
       "       'Kilimanjaro', 'Zanzibar', 'Bangkok', 'Chiang Mai', 'Chiang Rai',\n",
       "       'Hat Yai', 'Ko Samui', 'Krabi', 'Phuket', 'Udon Thani',\n",
       "       'Port of Spain', 'Djerba', 'Enfidha', 'Monastir', 'Sfax', 'Tozeur',\n",
       "       'Tunis', 'Adana', 'Ankara', 'Antalya', 'Dalaman', 'Erzurum',\n",
       "       'Gaziantep', 'Istanbul', 'İzmir', 'Kayseri', 'Nevsehir', 'Samsun',\n",
       "       'Trabzon', 'Ashgabat', 'Providenciales', 'Entebbe/Kampala',\n",
       "       'Abu Dhabi', 'Dubai', 'Ras al Khaymah', 'Sharjah', 'Aberdeen',\n",
       "       'Belfast', 'Birmingham', 'Bristol', 'Cardiff', 'Edinburgh',\n",
       "       'Exeter', 'Glasgow', 'Inverness', 'Jersey', 'Kirkwall', 'Leeds',\n",
       "       'Liverpool', 'London', 'Manchester', 'Newcastle', 'Newquay',\n",
       "       'Southampton', 'Teesside', 'Saint Thomas', 'Montevideo',\n",
       "       'Tashkent', 'Port Vila', 'Barcelona (Jose A. Anzoategui)',\n",
       "       'Barquisimeto', 'Caracas', 'Maracaibo', 'Puerto Ordaz', 'Dong Hoi',\n",
       "       'Philadelphia', 'Phoenix', 'Pittsburgh', 'Plattsburgh', 'Portland',\n",
       "       'Raleigh-Durham', 'Reno', 'Sacramento', 'Saint Louis',\n",
       "       'Salt Lake City', 'San Antonio', 'San Diego', 'San Francisco',\n",
       "       'San Jose', 'Santa Fe', 'Seattle', 'Tampa', 'Washington',\n",
       "       'Albuquerque', 'Anchorage', 'Atlanta', 'Austin, TX', 'Boston',\n",
       "       'Bozeman', 'Brainerd', 'Charlotte/Douglas', 'Chicago',\n",
       "       'Cincinnati/Northern Kentucky', 'Cleveland', 'Cody/Yellowstone',\n",
       "       'Colorado Springs', 'Dallas', 'Denver', 'Duluth', 'El Paso',\n",
       "       'Fresno', 'Honolulu', 'Houston', 'Idaho Falls', 'Indianapolis',\n",
       "       'Kailua/Kona', 'Kapalua', 'Las Vegas', 'Los Angeles', 'Louisville',\n",
       "       'Medford', 'Miami', 'Minneapolis/Saint Paul', 'Nashville',\n",
       "       'New Orleans', 'New York City', 'North Bend', 'Oakland', 'Orlando',\n",
       "       'Livingstone', 'Harare'], dtype=object)"
      ]
     },
     "execution_count": 9,
     "metadata": {},
     "output_type": "execute_result"
    }
   ],
   "source": [
    "print(\"We have \", len(df['city'].unique()), \" different city.\")\n",
    "df['city'].unique()\n",
    "# This column is clean"
   ]
  },
  {
   "cell_type": "markdown",
   "metadata": {},
   "source": [
    "### Duration"
   ]
  },
  {
   "cell_type": "code",
   "execution_count": 10,
   "metadata": {},
   "outputs": [
    {
     "data": {
      "text/plain": [
       "12657    17h 30m\n",
       "6637     12h 40m\n",
       "2259     33h 55m\n",
       "Name: duration, dtype: object"
      ]
     },
     "execution_count": 10,
     "metadata": {},
     "output_type": "execute_result"
    }
   ],
   "source": [
    "df['duration'].sample(3, random_state=41)\n",
    "# This column has a string type time format of {xxh xxm}\n",
    "# Let's convert it to a datetime format that is more practical"
   ]
  },
  {
   "cell_type": "code",
   "execution_count": 11,
   "metadata": {},
   "outputs": [
    {
     "data": {
      "text/plain": [
       "12657   0 days 17:30:00\n",
       "6637    0 days 12:40:00\n",
       "2259    1 days 09:55:00\n",
       "Name: duration, dtype: timedelta64[ns]"
      ]
     },
     "execution_count": 11,
     "metadata": {},
     "output_type": "execute_result"
    }
   ],
   "source": [
    "df['duration'] = pd.to_timedelta(df['duration'])\n",
    "df['duration'].sample(3, random_state=41)"
   ]
  },
  {
   "cell_type": "code",
   "execution_count": 12,
   "metadata": {},
   "outputs": [
    {
     "data": {
      "text/plain": [
       "12657     63000.0\n",
       "6637      45600.0\n",
       "2259     122100.0\n",
       "Name: duration_s_, dtype: float64"
      ]
     },
     "execution_count": 12,
     "metadata": {},
     "output_type": "execute_result"
    }
   ],
   "source": [
    "# This way we can even have a sec representation of the duration column that might be used in our ML model\n",
    "df['duration_s_'] = df['duration'].dt.total_seconds()\n",
    "df['duration_s_'].sample(3, random_state=41)"
   ]
  },
  {
   "cell_type": "markdown",
   "metadata": {},
   "source": [
    "### trajectory"
   ]
  },
  {
   "cell_type": "code",
   "execution_count": 13,
   "metadata": {},
   "outputs": [
    {
     "data": {
      "text/plain": [
       "2 stops    6759\n",
       "3 stops    2682\n",
       "1 stop     2637\n",
       "4 stops     557\n",
       "Direct      113\n",
       "Name: trajectory, dtype: int64"
      ]
     },
     "execution_count": 13,
     "metadata": {},
     "output_type": "execute_result"
    }
   ],
   "source": [
    "df['trajectory'].value_counts()\n",
    "# This column have 5 different categrical values\n",
    "# we'll rename the column 'stops' and change its value to the number of stops"
   ]
  },
  {
   "cell_type": "code",
   "execution_count": 14,
   "metadata": {},
   "outputs": [
    {
     "data": {
      "text/plain": [
       "2    6759\n",
       "3    2682\n",
       "1    2637\n",
       "4     557\n",
       "0     113\n",
       "Name: stops, dtype: int64"
      ]
     },
     "execution_count": 14,
     "metadata": {},
     "output_type": "execute_result"
    }
   ],
   "source": [
    "df.rename(columns={'trajectory': 'stops'}, inplace=True)\n",
    "df['stops'] = df['stops'].apply(lambda s : int(s[0]) if s[0].isdigit() else 0)\n",
    "df['stops'].value_counts()"
   ]
  },
  {
   "cell_type": "markdown",
   "metadata": {},
   "source": [
    "### departure_time & arrival_time"
   ]
  },
  {
   "cell_type": "code",
   "execution_count": 15,
   "metadata": {},
   "outputs": [
    {
     "data": {
      "text/html": [
       "<div>\n",
       "<style scoped>\n",
       "    .dataframe tbody tr th:only-of-type {\n",
       "        vertical-align: middle;\n",
       "    }\n",
       "\n",
       "    .dataframe tbody tr th {\n",
       "        vertical-align: top;\n",
       "    }\n",
       "\n",
       "    .dataframe thead th {\n",
       "        text-align: right;\n",
       "    }\n",
       "</style>\n",
       "<table border=\"1\" class=\"dataframe\">\n",
       "  <thead>\n",
       "    <tr style=\"text-align: right;\">\n",
       "      <th></th>\n",
       "      <th>duration</th>\n",
       "      <th>departure_time</th>\n",
       "      <th>arrival_time</th>\n",
       "    </tr>\n",
       "  </thead>\n",
       "  <tbody>\n",
       "    <tr>\n",
       "      <th>4695</th>\n",
       "      <td>0 days 09:05:00</td>\n",
       "      <td>11:30</td>\n",
       "      <td>21:35</td>\n",
       "    </tr>\n",
       "    <tr>\n",
       "      <th>13774</th>\n",
       "      <td>1 days 19:35:00</td>\n",
       "      <td>02:25</td>\n",
       "      <td>12:00+1</td>\n",
       "    </tr>\n",
       "    <tr>\n",
       "      <th>3771</th>\n",
       "      <td>0 days 09:55:00</td>\n",
       "      <td>12:40</td>\n",
       "      <td>00:35+1</td>\n",
       "    </tr>\n",
       "  </tbody>\n",
       "</table>\n",
       "</div>"
      ],
      "text/plain": [
       "             duration departure_time arrival_time\n",
       "4695  0 days 09:05:00          11:30        21:35\n",
       "13774 1 days 19:35:00          02:25      12:00+1\n",
       "3771  0 days 09:55:00          12:40      00:35+1"
      ]
     },
     "execution_count": 15,
     "metadata": {},
     "output_type": "execute_result"
    }
   ],
   "source": [
    "df[['duration', 'departure_time', 'arrival_time']].sample(3, random_state=19)\n",
    "# The probem here, beside that the column must be conveterted datatime type\n",
    "# is that some flights exceed the 24h duration, which add a '+1' (2 or even 3) to the arrival time\n",
    "# meaning that its the time of the next n day"
   ]
  },
  {
   "cell_type": "code",
   "execution_count": 16,
   "metadata": {},
   "outputs": [
    {
     "data": {
      "text/html": [
       "<div>\n",
       "<style scoped>\n",
       "    .dataframe tbody tr th:only-of-type {\n",
       "        vertical-align: middle;\n",
       "    }\n",
       "\n",
       "    .dataframe tbody tr th {\n",
       "        vertical-align: top;\n",
       "    }\n",
       "\n",
       "    .dataframe thead th {\n",
       "        text-align: right;\n",
       "    }\n",
       "</style>\n",
       "<table border=\"1\" class=\"dataframe\">\n",
       "  <thead>\n",
       "    <tr style=\"text-align: right;\">\n",
       "      <th></th>\n",
       "      <th>duration</th>\n",
       "      <th>departure_time</th>\n",
       "      <th>arrival_time</th>\n",
       "    </tr>\n",
       "  </thead>\n",
       "  <tbody>\n",
       "    <tr>\n",
       "      <th>4695</th>\n",
       "      <td>0 days 09:05:00</td>\n",
       "      <td>2024-03-15 11:30:00</td>\n",
       "      <td>2024-03-15 21:35:00</td>\n",
       "    </tr>\n",
       "    <tr>\n",
       "      <th>13774</th>\n",
       "      <td>1 days 19:35:00</td>\n",
       "      <td>2024-03-15 02:25:00</td>\n",
       "      <td>2024-03-16 12:00:00</td>\n",
       "    </tr>\n",
       "    <tr>\n",
       "      <th>3771</th>\n",
       "      <td>0 days 09:55:00</td>\n",
       "      <td>2024-03-15 12:40:00</td>\n",
       "      <td>2024-03-16 00:35:00</td>\n",
       "    </tr>\n",
       "  </tbody>\n",
       "</table>\n",
       "</div>"
      ],
      "text/plain": [
       "             duration      departure_time        arrival_time\n",
       "4695  0 days 09:05:00 2024-03-15 11:30:00 2024-03-15 21:35:00\n",
       "13774 1 days 19:35:00 2024-03-15 02:25:00 2024-03-16 12:00:00\n",
       "3771  0 days 09:55:00 2024-03-15 12:40:00 2024-03-16 00:35:00"
      ]
     },
     "execution_count": 16,
     "metadata": {},
     "output_type": "execute_result"
    }
   ],
   "source": [
    "# We'll fix that by adding a reference date (The day on which the data is scraped from)\n",
    "def parse_time(time):\n",
    "    \n",
    "    parts = time.split(':')\n",
    "    hours = int(parts[0])\n",
    "    minutes = int(parts[1].split('+')[0])\n",
    "    extra_day = int(parts[1].split('+')[1]) if '+' in time else 0\n",
    "\n",
    "    reference_date = pd.to_datetime('15/03/2024', dayfirst=True) + pd.Timedelta(days=extra_day)\n",
    "\n",
    "    # Combine the reference date with the time components\n",
    "    datetime_obj = reference_date.replace(hour=hours, minute=minutes)\n",
    "\n",
    "    return datetime_obj\n",
    "\n",
    "# Convert departure and arrival time columns to datetime without date\n",
    "df['departure_time'] = df['departure_time'].apply(parse_time)\n",
    "df['arrival_time'] = df['arrival_time'].apply(parse_time)\n",
    "\n",
    "df[['duration', 'departure_time', 'arrival_time']].sample(3, random_state=19)"
   ]
  },
  {
   "cell_type": "code",
   "execution_count": 17,
   "metadata": {},
   "outputs": [
    {
     "data": {
      "text/html": [
       "<div>\n",
       "<style scoped>\n",
       "    .dataframe tbody tr th:only-of-type {\n",
       "        vertical-align: middle;\n",
       "    }\n",
       "\n",
       "    .dataframe tbody tr th {\n",
       "        vertical-align: top;\n",
       "    }\n",
       "\n",
       "    .dataframe thead th {\n",
       "        text-align: right;\n",
       "    }\n",
       "</style>\n",
       "<table border=\"1\" class=\"dataframe\">\n",
       "  <thead>\n",
       "    <tr style=\"text-align: right;\">\n",
       "      <th></th>\n",
       "      <th>country</th>\n",
       "      <th>city</th>\n",
       "      <th>duration</th>\n",
       "      <th>stops</th>\n",
       "      <th>departure_time</th>\n",
       "      <th>arrival_time</th>\n",
       "      <th>airport_id</th>\n",
       "      <th>airline</th>\n",
       "      <th>price</th>\n",
       "      <th>duration_s_</th>\n",
       "      <th>departure_tod</th>\n",
       "      <th>arrival_tod</th>\n",
       "    </tr>\n",
       "  </thead>\n",
       "  <tbody>\n",
       "    <tr>\n",
       "      <th>0</th>\n",
       "      <td>Angola</td>\n",
       "      <td>Catumbela</td>\n",
       "      <td>0 days 19:40:00</td>\n",
       "      <td>1</td>\n",
       "      <td>2024-03-15 22:05:00</td>\n",
       "      <td>2024-03-16 18:45:00</td>\n",
       "      <td>CBT</td>\n",
       "      <td>https://jtc-fm.meta-cdn.net/cdn-cgi/image/widt...</td>\n",
       "      <td>€861</td>\n",
       "      <td>70800.0</td>\n",
       "      <td>Evening</td>\n",
       "      <td>Afternoon</td>\n",
       "    </tr>\n",
       "    <tr>\n",
       "      <th>1</th>\n",
       "      <td>Angola</td>\n",
       "      <td>Catumbela</td>\n",
       "      <td>1 days 01:10:00</td>\n",
       "      <td>2</td>\n",
       "      <td>2024-03-15 16:35:00</td>\n",
       "      <td>2024-03-16 18:45:00</td>\n",
       "      <td>CBT</td>\n",
       "      <td>https://jtc-fm.meta-cdn.net/cdn-cgi/image/widt...</td>\n",
       "      <td>€744</td>\n",
       "      <td>90600.0</td>\n",
       "      <td>Afternoon</td>\n",
       "      <td>Afternoon</td>\n",
       "    </tr>\n",
       "    <tr>\n",
       "      <th>2</th>\n",
       "      <td>Angola</td>\n",
       "      <td>Catumbela</td>\n",
       "      <td>1 days 06:15:00</td>\n",
       "      <td>2</td>\n",
       "      <td>2024-03-15 11:30:00</td>\n",
       "      <td>2024-03-16 18:45:00</td>\n",
       "      <td>CBT</td>\n",
       "      <td>https://jtc-fm.meta-cdn.net/cdn-cgi/image/widt...</td>\n",
       "      <td>€723</td>\n",
       "      <td>108900.0</td>\n",
       "      <td>Morning</td>\n",
       "      <td>Afternoon</td>\n",
       "    </tr>\n",
       "  </tbody>\n",
       "</table>\n",
       "</div>"
      ],
      "text/plain": [
       "  country       city        duration  stops      departure_time  \\\n",
       "0  Angola  Catumbela 0 days 19:40:00      1 2024-03-15 22:05:00   \n",
       "1  Angola  Catumbela 1 days 01:10:00      2 2024-03-15 16:35:00   \n",
       "2  Angola  Catumbela 1 days 06:15:00      2 2024-03-15 11:30:00   \n",
       "\n",
       "         arrival_time airport_id  \\\n",
       "0 2024-03-16 18:45:00        CBT   \n",
       "1 2024-03-16 18:45:00        CBT   \n",
       "2 2024-03-16 18:45:00        CBT   \n",
       "\n",
       "                                             airline price  duration_s_  \\\n",
       "0  https://jtc-fm.meta-cdn.net/cdn-cgi/image/widt...  €861      70800.0   \n",
       "1  https://jtc-fm.meta-cdn.net/cdn-cgi/image/widt...  €744      90600.0   \n",
       "2  https://jtc-fm.meta-cdn.net/cdn-cgi/image/widt...  €723     108900.0   \n",
       "\n",
       "  departure_tod arrival_tod  \n",
       "0       Evening   Afternoon  \n",
       "1     Afternoon   Afternoon  \n",
       "2       Morning   Afternoon  "
      ]
     },
     "execution_count": 17,
     "metadata": {},
     "output_type": "execute_result"
    }
   ],
   "source": [
    "# We can add a categorical column exploiting the departure_time column\n",
    "# by spliting time by : Night(12am to 6am), Morning(6am to 12pm), Afternoon(12pm to 19pm) and Evening(19pm to 12am)\n",
    "\n",
    "time_ranges = [(0, 6), (6, 12), (12, 19), (19, 24)]\n",
    "labels = ['Night', 'Morning', 'Afternoon', 'Evening']\n",
    "\n",
    "departure_tod = df['departure_time'].dt.hour\n",
    "arrival_tod = df['arrival_time'].dt.hour\n",
    "\n",
    "def categorize_hour(hour):\n",
    "    for i, (start, end) in enumerate(time_ranges):\n",
    "        if start <= hour < end:\n",
    "            return labels[i]\n",
    "\n",
    "df['departure_tod'] = departure_tod.apply(categorize_hour)\n",
    "df['arrival_tod'] = arrival_tod.apply(categorize_hour)\n",
    "df.head(3)\n"
   ]
  },
  {
   "cell_type": "markdown",
   "metadata": {},
   "source": [
    "### airport_id"
   ]
  },
  {
   "cell_type": "code",
   "execution_count": 18,
   "metadata": {},
   "outputs": [
    {
     "name": "stdout",
     "output_type": "stream",
     "text": [
      "We have  693  different airport.\n"
     ]
    },
    {
     "data": {
      "text/plain": [
       "array(['CBT', 'LAD', 'AXA', 'ANU', 'EZE', 'AEP', 'COR', 'FTE', 'IGR',\n",
       "       'MDQ', 'MDZ', 'NQN', 'ROS', 'SLA', 'BRC', 'TUC', 'USH', 'EVN',\n",
       "       'AUA', 'ADL', 'ASP', 'BNE', 'CNS', 'OOL', 'HTI', 'HBA', 'MEL',\n",
       "       'PER', 'SYD', 'GRZ', 'INN', 'KLU', 'LNZ', 'SZG', 'VIE', 'GYD',\n",
       "       'NAS', 'BAH', 'CXB', 'DAC', 'BGI', 'ANR', 'BRU', 'CRL', 'BZE',\n",
       "       'COO', 'BDA', 'CBB', 'LPB', 'VVI', 'SRE', 'SJJ', 'MUB', 'GRU',\n",
       "       'VCP', 'CGH', 'BEL', 'CNF', 'BSB', 'CWB', 'FLN', 'FOR', 'GYN',\n",
       "       'JPA', 'MCZ', 'MAO', 'NAT', 'POA', 'GIG', 'SDU', 'SSA', 'THE',\n",
       "       'YUL', 'YYC', 'YVR', 'YEG', 'YHZ', 'YLW', 'YOW', 'YQB', 'YYT',\n",
       "       'YQT', 'YTZ', 'YYZ', 'YWG', 'KBL', 'TIA', 'BWN', 'SOF', 'VAR',\n",
       "       'OUA', 'BJM', 'DLA', 'BVC', 'RAI', 'SID', 'VXE', 'BON', 'GCM',\n",
       "       'ANF', 'ARI', 'CCP', 'CPO', 'IPC', 'IQQ', 'LSC', 'PMC', 'PUQ',\n",
       "       'SCL', 'PEK', 'PKX', 'TFU', 'CTU', 'CKG', 'CAN', 'KWL', 'HGH',\n",
       "       'JZH', 'KMG', 'LXA', 'LJG', 'PVG', 'SHA', 'SZX', 'BAQ', 'BOG',\n",
       "       'BGA', 'CLO', 'CTG', 'CUC', 'MDE', 'PEI', 'ADZ', 'SMR', 'RAR',\n",
       "       'SJO', 'ABJ', 'DBV', 'SPU', 'ZAD', 'ZAG', 'CMW', 'CCC', 'HAV',\n",
       "       'HOG', 'SNU', 'SCU', 'VRA', 'CUR', 'LCA', 'PFO', 'PRG', 'FIH',\n",
       "       'AAL', 'AAR', 'BLL', 'RNN', 'CPH', 'KRP', 'SGD', 'JIB', 'DOM',\n",
       "       'LRM', 'POP', 'PUJ', 'GPS', 'GYE', 'UIO', 'ABS', 'HBE', 'ASW',\n",
       "       'CAI', 'HRG', 'LXR', 'RMF', 'SSH', 'HMB', 'SAL', 'SSG', 'ASM',\n",
       "       'TLL', 'ADD', 'FAE', 'NAN', 'HEL', 'KOK', 'KUO', 'KAO', 'OUL',\n",
       "       'RVN', 'TMP', 'TKU', 'VAA', 'CAY', 'PPT', 'LBV', 'BJL', 'BUS',\n",
       "       'KUT', 'TBS', 'MPL', 'ORY', 'CDG', 'LYS', 'MRS', 'BOD', 'AJA',\n",
       "       'BIA', 'NTE', 'FSC', 'BIQ', 'GNB', 'LIL', 'BES', 'CFE', 'CMF',\n",
       "       'ETZ', 'NCE', 'PGF', 'RNS', 'SXB', 'TLN', 'TLS', 'ALG', 'BJA',\n",
       "       'AAE', 'DJG', 'CZL', 'ORN', 'QSF', 'BTS', 'BER', 'CGN', 'BRE',\n",
       "       'DTM', 'DUS', 'FRA', 'HAM', 'HAJ', 'LEJ', 'MUC', 'NUE', 'STR',\n",
       "       'ACC', 'GIB', 'ATH', 'JKH', 'CHQ', 'HER', 'EFL', 'CFU', 'KGS',\n",
       "       'JMK', 'RHO', 'SKG', 'JTR', 'ZTH', 'GUM', 'GUA', 'CKY', 'OXB',\n",
       "       'PAP', 'TGU', 'HKG', 'BUD', 'DEB', 'KEF', 'AMD', 'BLR', 'IXC',\n",
       "       'MAA', 'DEL', 'GOI', 'HYD', 'JAI', 'COK', 'CCU', 'CCJ', 'BOM',\n",
       "       'IXZ', 'TRZ', 'DPS', 'BPN', 'CGK', 'MDC', 'SRG', 'SOQ', 'SUB',\n",
       "       'UPG', 'JOG', 'IKA', 'EBL', 'BGW', 'BSR', 'NJF', 'ISU', 'CFN',\n",
       "       'ORK', 'DUB', 'NOC', 'SNN', 'AHO', 'AOI', 'BRI', 'BLQ', 'BDS',\n",
       "       'CAG', 'CTA', 'CIY', 'FLR', 'SUF', 'LMP', 'BGY', 'MXP', 'LIN',\n",
       "       'NAP', 'OLB', 'PMO', 'PNL', 'PSR', 'PSA', 'REG', 'RMI', 'FCO',\n",
       "       'MBJ', 'FUK', 'NGS', 'NGO', 'OKA', 'KIX', 'CTS', 'HND', 'NRT',\n",
       "       'AMM', 'ALA', 'NBO', 'WIL', 'PRN', 'KWI', 'FRU', 'RIX', 'BEY',\n",
       "       'MSU', 'VNO', 'LUX', 'MFM', 'SKP', 'TNR', 'LJU', 'MGQ', 'CPT',\n",
       "       'DUR', 'GRJ', 'JNB', 'MQP', 'PLZ', 'UTN', 'CJU', 'KWJ', 'PUS',\n",
       "       'ICN', 'UBN', 'TGD', 'AGA', 'VIL', 'FEZ', 'EUN', 'RAK', 'NDR',\n",
       "       'OZZ', 'OUD', 'RBA', 'TNG', 'MPM', 'RGN', 'WDH', 'KTM', 'AMS',\n",
       "       'EIN', 'MST', 'RTM', 'NOU', 'IPH', 'JHB', 'BKI', 'KUL', 'KCH',\n",
       "       'LGK', 'MYY', 'MZV', 'PEN', 'TWU', 'MLE', 'MLA', 'FDF', 'NKC',\n",
       "       'MRU', 'DZA', 'ACA', 'CUN', 'CUU', 'CZM', 'GDL', 'BJX', 'MID',\n",
       "       'MEX', 'TLC', 'MTY', 'PXM', 'PVR', 'SJD', 'TIJ', 'AKL', 'CHC',\n",
       "       'DUD', 'ZQN', 'ROT', 'WLG', 'MGA', 'NIM', 'LOS', 'SPN', 'AES',\n",
       "       'BGO', 'BOO', 'HAU', 'KRS', 'LKN', 'OSL', 'TRF', 'SDN', 'SVG',\n",
       "       'TOS', 'TRD', 'MCT', 'GIL', 'ISB', 'KHI', 'LHE', 'MUX', 'PEW',\n",
       "       'UET', 'SKT', 'PTY', 'POM', 'ASU', 'AQP', 'CJA', 'CIX', 'CUZ',\n",
       "       'IQT', 'JAU', 'JUL', 'LIM', 'PIU', 'TPP', 'TRU', 'TBP', 'BCD',\n",
       "       'CEB', 'DVO', 'ILO', 'CRK', 'MNL', 'PPS', 'TAC', 'ZAM', 'GDN',\n",
       "       'KTW', 'POZ', 'RZE', 'WAW', 'WRO', 'FAO', 'FNC', 'HOR', 'LIS',\n",
       "       'PDL', 'OPO', 'PXO', 'TER', 'BQN', 'SJU', 'DOH', 'BZV', 'RUN',\n",
       "       'BCM', 'OTP', 'CLJ', 'CRA', 'IAS', 'OMR', 'SUJ', 'SBZ', 'TSR',\n",
       "       'TGM', 'AER', 'SVX', 'IKT', 'KZN', 'VKO', 'DME', 'OVB', 'LED',\n",
       "       'KUF', 'KGL', 'SBH', 'SKB', 'UVF', 'SFG', 'SVD', 'APW', 'RUH',\n",
       "       'DSS', 'BEG', 'SEZ', 'FNA', 'SIN', 'ALC', 'LEI', 'OVD', 'BCN',\n",
       "       'BIO', 'RMU', 'FUE', 'GRX', 'IBZ', 'XRY', 'LCG', 'ACE', 'LPA',\n",
       "       'LEN', 'MAD', 'AGP', 'MAH', 'PMI', 'EAS', 'GMZ', 'SDR', 'SCQ',\n",
       "       'SVQ', 'TFS', 'TFN', 'VLC', 'CMB', 'PBM', 'ACH', 'BSL', 'GVA',\n",
       "       'ZRH', 'HUN', 'KHH', 'KNH', 'RMQ', 'TPE', 'TSA', 'TTT', 'DYU',\n",
       "       'DAR', 'JRO', 'ZNZ', 'BKK', 'DMK', 'CNX', 'CEI', 'HDY', 'USM',\n",
       "       'KBV', 'HKT', 'UTH', 'POS', 'DJE', 'NBE', 'MIR', 'SFA', 'TOE',\n",
       "       'TUN', 'ADA', 'ESB', 'AYT', 'GZP', 'DLM', 'ERZ', 'GZT', 'SAW',\n",
       "       'IST', 'ADB', 'ASR', 'NAV', 'SZF', 'TZX', 'ASB', 'PLS', 'EBB',\n",
       "       'AUH', 'DXB', 'RKT', 'SHJ', 'ABZ', 'BFS', 'BHD', 'BHX', 'BRS',\n",
       "       'CWL', 'EDI', 'EXT', 'GLA', 'INV', 'JER', 'KOI', 'LBA', 'LPL',\n",
       "       'LHR', 'LGW', 'STN', 'MAN', 'NCL', 'NQY', 'SOU', 'MME', 'STT',\n",
       "       'MVD', 'TAS', 'VLI', 'BLA', 'BRM', 'CCS', 'MAR', 'PZO', 'VLN',\n",
       "       'VDH', 'PHL', 'PHX', 'PIT', 'PBG', 'PDX', 'RDU', 'RNO', 'SMF',\n",
       "       'STL', 'SLC', 'SAT', 'SAN', 'SFO', 'SJC', 'SAF', 'SEA', 'TPA',\n",
       "       'IAD', 'DCA', 'ABQ', 'ANC', 'ATL', 'AUS', 'BOS', 'BZN', 'BRD',\n",
       "       'CLT', 'ORD', 'MDW', 'CVG', 'CLE', 'COD', 'COS', 'DFW', 'DEN',\n",
       "       'DLH', 'ELP', 'FAT', 'HNL', 'IAH', 'IDA', 'IND', 'KOA', 'JHM',\n",
       "       'LAS', 'LAX', 'LGB', 'SDF', 'MFR', 'MIA', 'FLL', 'MSP', 'BNA',\n",
       "       'MSY', 'EWR', 'JFK', 'LGA', 'OTH', 'OAK', 'MCO', 'LVI', 'HRE'],\n",
       "      dtype=object)"
      ]
     },
     "execution_count": 18,
     "metadata": {},
     "output_type": "execute_result"
    }
   ],
   "source": [
    "print(\"We have \", len(df['airport_id'].unique()), \" different airport.\")\n",
    "# obviously more than the number of cities (661) as some contains more than one\n",
    "df['airport_id'].unique()\n",
    "# This column is clean"
   ]
  },
  {
   "cell_type": "markdown",
   "metadata": {},
   "source": [
    "### airline"
   ]
  },
  {
   "cell_type": "code",
   "execution_count": 19,
   "metadata": {},
   "outputs": [
    {
     "name": "stdout",
     "output_type": "stream",
     "text": [
      "We have  32  different airline.\n"
     ]
    },
    {
     "data": {
      "text/plain": [
       "array(['https://jtc-fm.meta-cdn.net/cdn-cgi/image/width=64,height=64,fit=crop,gravity=auto/upload/auto/carriers/icons/original/62.png',\n",
       "       'https://jtc-fm.meta-cdn.net/cdn-cgi/image/width=64,height=64,fit=crop,gravity=auto/upload/auto/carriers/icons/original/17.png',\n",
       "       'https://jtc-fm.meta-cdn.net/cdn-cgi/image/width=64,height=64,fit=crop,gravity=auto/upload/auto/carriers/icons/original/192.png',\n",
       "       'https://jtc-fm.meta-cdn.net/cdn-cgi/image/width=64,height=64,fit=crop,gravity=auto/upload/auto/carriers/icons/original/5015.png',\n",
       "       'https://jtc-fm.meta-cdn.net/cdn-cgi/image/width=64,height=64,fit=crop,gravity=auto/upload/auto/carriers/icons/original/112.png',\n",
       "       'https://jtc-fm.meta-cdn.net/cdn-cgi/image/width=64,height=64,fit=crop,gravity=auto/upload/auto/carriers/icons/original/22.png',\n",
       "       'https://jtc-fm.meta-cdn.net/cdn-cgi/image/width=64,height=64,fit=crop,gravity=auto/upload/auto/carriers/icons/original/197.png',\n",
       "       'https://jtc-fm.meta-cdn.net/cdn-cgi/image/width=64,height=64,fit=crop,gravity=auto/upload/auto/carriers/icons/original/2777.png',\n",
       "       'https://jtc-fm.meta-cdn.net/cdn-cgi/image/width=64,height=64,fit=crop,gravity=auto/upload/auto/carriers/icons/original/142.png',\n",
       "       'https://jtc-fm.meta-cdn.net/cdn-cgi/image/width=64,height=64,fit=crop,gravity=auto/upload/auto/carriers/icons/original/27.png',\n",
       "       'https://jtc-fm.meta-cdn.net/cdn-cgi/image/width=64,height=64,fit=crop,gravity=auto/upload/auto/carriers/icons/original/42.png',\n",
       "       'https://jtc-fm.meta-cdn.net/cdn-cgi/image/width=64,height=64,fit=crop,gravity=auto/upload/auto/carriers/icons/original/172.png',\n",
       "       'https://jtc-fm.meta-cdn.net/cdn-cgi/image/width=64,height=64,fit=crop,gravity=auto/upload/auto/carriers/icons/original/7.png',\n",
       "       'https://jtc-fm.meta-cdn.net/cdn-cgi/image/width=64,height=64,fit=crop,gravity=auto/upload/auto/carriers/icons/original/222.png',\n",
       "       'https://jtc-fm.meta-cdn.net/cdn-cgi/image/width=64,height=64,fit=crop,gravity=auto/upload/auto/carriers/icons/original/47.png',\n",
       "       'https://jtc-fm.meta-cdn.net/cdn-cgi/image/width=64,height=64,fit=crop,gravity=auto/upload/auto/carriers/icons/original/372.png',\n",
       "       'https://jtc-fm.meta-cdn.net/cdn-cgi/image/width=64,height=64,fit=crop,gravity=auto/upload/auto/carriers/icons/original/572.png',\n",
       "       'https://jtc-fm.meta-cdn.net/cdn-cgi/image/width=64,height=64,fit=crop,gravity=auto/upload/auto/carriers/icons/original/277.png',\n",
       "       'https://jtc-fm.meta-cdn.net/cdn-cgi/image/width=64,height=64,fit=crop,gravity=auto/upload/auto/carriers/icons/original/67.png',\n",
       "       'https://jtc-fm.meta-cdn.net/cdn-cgi/image/width=64,height=64,fit=crop,gravity=auto/upload/auto/carriers/icons/original/517.png',\n",
       "       'https://jtc-fm.meta-cdn.net/cdn-cgi/image/width=64,height=64,fit=crop,gravity=auto/upload/auto/carriers/icons/original/57.png',\n",
       "       'https://jtc-fm.meta-cdn.net/cdn-cgi/image/width=64,height=64,fit=crop,gravity=auto/upload/auto/carriers/icons/original/4583.png',\n",
       "       'https://jtc-fm.meta-cdn.net/cdn-cgi/image/width=64,height=64,fit=crop,gravity=auto/upload/auto/carriers/icons/original/932.png',\n",
       "       'https://jtc-fm.meta-cdn.net/cdn-cgi/image/width=64,height=64,fit=crop,gravity=auto/upload/auto/carriers/icons/original/387.png',\n",
       "       'https://jtc-fm.meta-cdn.net/cdn-cgi/image/width=64,height=64,fit=crop,gravity=auto/upload/auto/carriers/icons/original/3827.png',\n",
       "       'https://jtc-fm.meta-cdn.net/cdn-cgi/image/width=64,height=64,fit=crop,gravity=auto/upload/auto/carriers/icons/original/1517.png',\n",
       "       'https://jtc-fm.meta-cdn.net/cdn-cgi/image/width=64,height=64,fit=crop,gravity=auto/upload/auto/carriers/icons/original/802.png',\n",
       "       'https://jtc-fm.meta-cdn.net/cdn-cgi/image/width=64,height=64,fit=crop,gravity=auto/upload/auto/carriers/icons/original/187.png',\n",
       "       'https://jtc-fm.meta-cdn.net/cdn-cgi/image/width=64,height=64,fit=crop,gravity=auto/upload/auto/carriers/icons/original/32.png',\n",
       "       'https://jtc-fm.meta-cdn.net/cdn-cgi/image/width=64,height=64,fit=crop,gravity=auto/upload/auto/carriers/icons/original/447.png',\n",
       "       'https://jtc-fm.meta-cdn.net/cdn-cgi/image/width=64,height=64,fit=crop,gravity=auto/upload/auto/carriers/icons/original/87.png',\n",
       "       'https://jtc-fm.meta-cdn.net/cdn-cgi/image/width=64,height=64,fit=crop,gravity=auto/upload/auto/carriers/icons/original/102.png'],\n",
       "      dtype=object)"
      ]
     },
     "execution_count": 19,
     "metadata": {},
     "output_type": "execute_result"
    }
   ],
   "source": [
    "print(\"We have \", len(df['airline'].unique()), \" different airline.\")\n",
    "\n",
    "df['airline'].unique()\n",
    "# They are represented with a link referencing to the logo of the airline\n",
    "# It was difficult to extract the airline directly as it was hidden by JavaScript code, leading to a lot of missing data\n",
    "# the idea here is to manually associate to each link its airline name (32 isn't a bad number tho)"
   ]
  },
  {
   "cell_type": "code",
   "execution_count": 20,
   "metadata": {},
   "outputs": [],
   "source": [
    "airline_map = {\n",
    "    '62': \"Royal Air Maroc\",\n",
    "    '17': \"TAP Air Portugal\",\n",
    "    '192': \"TUI fly Belgium\",\n",
    "    '5015': \"ITA Airways\",\n",
    "    '112': \"Tunisair Express\",\n",
    "    '22': \"Lufthansa\",\n",
    "    '197': \"Pegasus Airlines\",\n",
    "    '2777': \"Transavia\",\n",
    "    '142': \"Fly Emirates\",\n",
    "    '27': \"American Airlines\",\n",
    "    '42': \"Iberia\",\n",
    "    '172': \"Air Canada\",\n",
    "    '7': \"Air France\",\n",
    "    '222' : \"Qatar Airways\",\n",
    "    '47': \"Turkish Airlines\",\n",
    "    '372': \"Egyptair\",\n",
    "    '572': \"Malaysia Airlines\",\n",
    "    '277': \"Etihad Airways\",\n",
    "    '67': \"KLM\",\n",
    "    '517': \"IndiGo\",\n",
    "    '57': \"United Airlines\",\n",
    "    '4583': \"Air Senegal\",\n",
    "    '932': \"Mauritania Airlines\",\n",
    "    '387': \"Qantas Airways\",\n",
    "    '3827': \"Air Cairo\",\n",
    "    '1517': \"Sichuan Airlines\",\n",
    "    '802': \"Azores Airlines\",\n",
    "    '187': \"Air Arabia\",\n",
    "    '32': \"Vueling\",\n",
    "    '447': \"Oman Air\",\n",
    "    '87': \"British Airways\",\n",
    "    '102': \"Delta Air Lines\"\n",
    "}"
   ]
  },
  {
   "cell_type": "code",
   "execution_count": 21,
   "metadata": {},
   "outputs": [
    {
     "data": {
      "text/plain": [
       "Royal Air Maroc        4309\n",
       "Lufthansa              1991\n",
       "TAP Air Portugal        893\n",
       "Air France              839\n",
       "Air Canada              681\n",
       "Qatar Airways           578\n",
       "Iberia                  555\n",
       "Pegasus Airlines        502\n",
       "Fly Emirates            334\n",
       "Turkish Airlines        315\n",
       "Etihad Airways          303\n",
       "Tunisair Express        242\n",
       "Transavia               213\n",
       "ITA Airways             205\n",
       "Egyptair                170\n",
       "Air Arabia              144\n",
       "KLM                     113\n",
       "United Airlines         101\n",
       "TUI fly Belgium          80\n",
       "Vueling                  45\n",
       "American Airlines        41\n",
       "Azores Airlines          27\n",
       "Air Senegal              23\n",
       "Qantas Airways           11\n",
       "Mauritania Airlines      10\n",
       "British Airways           7\n",
       "Malaysia Airlines         6\n",
       "Sichuan Airlines          6\n",
       "Air Cairo                 1\n",
       "Oman Air                  1\n",
       "IndiGo                    1\n",
       "Delta Air Lines           1\n",
       "Name: airline, dtype: int64"
      ]
     },
     "execution_count": 21,
     "metadata": {},
     "output_type": "execute_result"
    }
   ],
   "source": [
    "df['airline'] = df['airline'].apply(lambda link : airline_map[link[119:][:-4]])\n",
    "df['airline'].value_counts()\n",
    "# We can see that some airlines are occuring few times, let's group them into one category (others)"
   ]
  },
  {
   "cell_type": "code",
   "execution_count": 22,
   "metadata": {},
   "outputs": [
    {
     "data": {
      "text/plain": [
       "Royal Air Maroc      4309\n",
       "Lufthansa            1991\n",
       "TAP Air Portugal      893\n",
       "Air France            839\n",
       "Air Canada            681\n",
       "Qatar Airways         578\n",
       "Iberia                555\n",
       "Pegasus Airlines      502\n",
       "Fly Emirates          334\n",
       "Turkish Airlines      315\n",
       "Etihad Airways        303\n",
       "Tunisair Express      242\n",
       "Transavia             213\n",
       "ITA Airways           205\n",
       "Egyptair              170\n",
       "Air Arabia            144\n",
       "KLM                   113\n",
       "United Airlines       101\n",
       "Others                 94\n",
       "TUI fly Belgium        80\n",
       "Vueling                45\n",
       "American Airlines      41\n",
       "Name: airline, dtype: int64"
      ]
     },
     "execution_count": 22,
     "metadata": {},
     "output_type": "execute_result"
    }
   ],
   "source": [
    "airline_counts = df['airline'].value_counts()\n",
    "rare_airlines = airline_counts[airline_counts < 40].index.tolist()\n",
    "df['airline'] = df['airline'].apply(lambda x: 'Others' if x in rare_airlines else x)\n",
    "\n",
    "df['airline'].value_counts()\n",
    "# Now it's way better !"
   ]
  },
  {
   "cell_type": "markdown",
   "metadata": {},
   "source": [
    "### price"
   ]
  },
  {
   "cell_type": "code",
   "execution_count": 23,
   "metadata": {},
   "outputs": [
    {
     "data": {
      "text/plain": [
       "473      €1,505\n",
       "13121      €713\n",
       "10460      €255\n",
       "Name: price, dtype: object"
      ]
     },
     "execution_count": 23,
     "metadata": {},
     "output_type": "execute_result"
    }
   ],
   "source": [
    "df['price'].sample(3, random_state=10)\n",
    "# As we can see the prices are in a string format\n",
    "# let's remove the '€' sign and convert the column into float"
   ]
  },
  {
   "cell_type": "code",
   "execution_count": 24,
   "metadata": {},
   "outputs": [
    {
     "data": {
      "text/plain": [
       "473      1505.0\n",
       "13121     713.0\n",
       "10460     255.0\n",
       "Name: price, dtype: float64"
      ]
     },
     "execution_count": 24,
     "metadata": {},
     "output_type": "execute_result"
    }
   ],
   "source": [
    "df['price'] = df['price'].apply(lambda p : float(p[1:].replace(',','')))\n",
    "df['price'].sample(3, random_state=10)"
   ]
  },
  {
   "cell_type": "markdown",
   "metadata": {},
   "source": [
    "### Finally"
   ]
  },
  {
   "cell_type": "code",
   "execution_count": 25,
   "metadata": {},
   "outputs": [
    {
     "data": {
      "text/html": [
       "<div>\n",
       "<style scoped>\n",
       "    .dataframe tbody tr th:only-of-type {\n",
       "        vertical-align: middle;\n",
       "    }\n",
       "\n",
       "    .dataframe tbody tr th {\n",
       "        vertical-align: top;\n",
       "    }\n",
       "\n",
       "    .dataframe thead th {\n",
       "        text-align: right;\n",
       "    }\n",
       "</style>\n",
       "<table border=\"1\" class=\"dataframe\">\n",
       "  <thead>\n",
       "    <tr style=\"text-align: right;\">\n",
       "      <th></th>\n",
       "      <th>country</th>\n",
       "      <th>city</th>\n",
       "      <th>duration</th>\n",
       "      <th>stops</th>\n",
       "      <th>departure_time</th>\n",
       "      <th>arrival_time</th>\n",
       "      <th>airport_id</th>\n",
       "      <th>airline</th>\n",
       "      <th>price</th>\n",
       "      <th>duration_s_</th>\n",
       "      <th>departure_tod</th>\n",
       "      <th>arrival_tod</th>\n",
       "    </tr>\n",
       "  </thead>\n",
       "  <tbody>\n",
       "    <tr>\n",
       "      <th>12599</th>\n",
       "      <td>United Kingdom</td>\n",
       "      <td>Leeds</td>\n",
       "      <td>0 days 10:40:00</td>\n",
       "      <td>2</td>\n",
       "      <td>2024-03-15 11:30:00</td>\n",
       "      <td>2024-03-15 22:10:00</td>\n",
       "      <td>LBA</td>\n",
       "      <td>TAP Air Portugal</td>\n",
       "      <td>412.0</td>\n",
       "      <td>38400.0</td>\n",
       "      <td>Morning</td>\n",
       "      <td>Evening</td>\n",
       "    </tr>\n",
       "    <tr>\n",
       "      <th>9918</th>\n",
       "      <td>Portugal</td>\n",
       "      <td>Porto Santo</td>\n",
       "      <td>1 days 02:20:00</td>\n",
       "      <td>3</td>\n",
       "      <td>2024-03-15 16:35:00</td>\n",
       "      <td>2024-03-16 18:55:00</td>\n",
       "      <td>PXO</td>\n",
       "      <td>Royal Air Maroc</td>\n",
       "      <td>315.0</td>\n",
       "      <td>94800.0</td>\n",
       "      <td>Afternoon</td>\n",
       "      <td>Afternoon</td>\n",
       "    </tr>\n",
       "    <tr>\n",
       "      <th>5249</th>\n",
       "      <td>Guam</td>\n",
       "      <td>Guam</td>\n",
       "      <td>1 days 14:15:00</td>\n",
       "      <td>2</td>\n",
       "      <td>2024-03-15 14:00:00</td>\n",
       "      <td>2024-03-17 14:15:00</td>\n",
       "      <td>GUM</td>\n",
       "      <td>Qatar Airways</td>\n",
       "      <td>1618.0</td>\n",
       "      <td>137700.0</td>\n",
       "      <td>Afternoon</td>\n",
       "      <td>Afternoon</td>\n",
       "    </tr>\n",
       "    <tr>\n",
       "      <th>4878</th>\n",
       "      <td>Germany</td>\n",
       "      <td>Nuremberg</td>\n",
       "      <td>0 days 13:40:00</td>\n",
       "      <td>1</td>\n",
       "      <td>2024-03-15 19:15:00</td>\n",
       "      <td>2024-03-16 09:55:00</td>\n",
       "      <td>NUE</td>\n",
       "      <td>Air France</td>\n",
       "      <td>121.0</td>\n",
       "      <td>49200.0</td>\n",
       "      <td>Evening</td>\n",
       "      <td>Morning</td>\n",
       "    </tr>\n",
       "    <tr>\n",
       "      <th>2057</th>\n",
       "      <td>Chile</td>\n",
       "      <td>Concepcion</td>\n",
       "      <td>1 days 10:18:00</td>\n",
       "      <td>4</td>\n",
       "      <td>2024-03-15 11:30:00</td>\n",
       "      <td>2024-03-16 18:48:00</td>\n",
       "      <td>CCP</td>\n",
       "      <td>TAP Air Portugal</td>\n",
       "      <td>770.0</td>\n",
       "      <td>123480.0</td>\n",
       "      <td>Morning</td>\n",
       "      <td>Afternoon</td>\n",
       "    </tr>\n",
       "    <tr>\n",
       "      <th>8508</th>\n",
       "      <td>Mexico</td>\n",
       "      <td>Tijuana</td>\n",
       "      <td>1 days 05:30:00</td>\n",
       "      <td>4</td>\n",
       "      <td>2024-03-15 02:35:00</td>\n",
       "      <td>2024-03-16 01:05:00</td>\n",
       "      <td>TIJ</td>\n",
       "      <td>Tunisair Express</td>\n",
       "      <td>797.0</td>\n",
       "      <td>106200.0</td>\n",
       "      <td>Night</td>\n",
       "      <td>Night</td>\n",
       "    </tr>\n",
       "    <tr>\n",
       "      <th>642</th>\n",
       "      <td>Austria</td>\n",
       "      <td>Linz</td>\n",
       "      <td>0 days 19:20:00</td>\n",
       "      <td>1</td>\n",
       "      <td>2024-03-15 02:25:00</td>\n",
       "      <td>2024-03-15 22:45:00</td>\n",
       "      <td>LNZ</td>\n",
       "      <td>Lufthansa</td>\n",
       "      <td>211.0</td>\n",
       "      <td>69600.0</td>\n",
       "      <td>Night</td>\n",
       "      <td>Evening</td>\n",
       "    </tr>\n",
       "    <tr>\n",
       "      <th>11204</th>\n",
       "      <td>Switzerland</td>\n",
       "      <td>Basel / Mulhouse</td>\n",
       "      <td>0 days 08:10:00</td>\n",
       "      <td>1</td>\n",
       "      <td>2024-03-15 13:35:00</td>\n",
       "      <td>2024-03-15 22:45:00</td>\n",
       "      <td>BSL</td>\n",
       "      <td>Royal Air Maroc</td>\n",
       "      <td>238.0</td>\n",
       "      <td>29400.0</td>\n",
       "      <td>Afternoon</td>\n",
       "      <td>Evening</td>\n",
       "    </tr>\n",
       "    <tr>\n",
       "      <th>7656</th>\n",
       "      <td>Morocco</td>\n",
       "      <td>Oujda</td>\n",
       "      <td>1 days 04:15:00</td>\n",
       "      <td>3</td>\n",
       "      <td>2024-03-15 19:00:00</td>\n",
       "      <td>2024-03-16 23:15:00</td>\n",
       "      <td>OUD</td>\n",
       "      <td>Royal Air Maroc</td>\n",
       "      <td>642.0</td>\n",
       "      <td>101700.0</td>\n",
       "      <td>Evening</td>\n",
       "      <td>Evening</td>\n",
       "    </tr>\n",
       "    <tr>\n",
       "      <th>2922</th>\n",
       "      <td>Cyprus</td>\n",
       "      <td>Paphos</td>\n",
       "      <td>1 days 01:10:00</td>\n",
       "      <td>2</td>\n",
       "      <td>2024-03-15 16:05:00</td>\n",
       "      <td>2024-03-16 19:15:00</td>\n",
       "      <td>PFO</td>\n",
       "      <td>Iberia</td>\n",
       "      <td>618.0</td>\n",
       "      <td>90600.0</td>\n",
       "      <td>Afternoon</td>\n",
       "      <td>Evening</td>\n",
       "    </tr>\n",
       "  </tbody>\n",
       "</table>\n",
       "</div>"
      ],
      "text/plain": [
       "              country              city        duration  stops  \\\n",
       "12599  United Kingdom             Leeds 0 days 10:40:00      2   \n",
       "9918         Portugal       Porto Santo 1 days 02:20:00      3   \n",
       "5249             Guam              Guam 1 days 14:15:00      2   \n",
       "4878          Germany         Nuremberg 0 days 13:40:00      1   \n",
       "2057            Chile        Concepcion 1 days 10:18:00      4   \n",
       "8508           Mexico           Tijuana 1 days 05:30:00      4   \n",
       "642           Austria              Linz 0 days 19:20:00      1   \n",
       "11204     Switzerland  Basel / Mulhouse 0 days 08:10:00      1   \n",
       "7656          Morocco             Oujda 1 days 04:15:00      3   \n",
       "2922           Cyprus            Paphos 1 days 01:10:00      2   \n",
       "\n",
       "           departure_time        arrival_time airport_id           airline  \\\n",
       "12599 2024-03-15 11:30:00 2024-03-15 22:10:00        LBA  TAP Air Portugal   \n",
       "9918  2024-03-15 16:35:00 2024-03-16 18:55:00        PXO   Royal Air Maroc   \n",
       "5249  2024-03-15 14:00:00 2024-03-17 14:15:00        GUM     Qatar Airways   \n",
       "4878  2024-03-15 19:15:00 2024-03-16 09:55:00        NUE        Air France   \n",
       "2057  2024-03-15 11:30:00 2024-03-16 18:48:00        CCP  TAP Air Portugal   \n",
       "8508  2024-03-15 02:35:00 2024-03-16 01:05:00        TIJ  Tunisair Express   \n",
       "642   2024-03-15 02:25:00 2024-03-15 22:45:00        LNZ         Lufthansa   \n",
       "11204 2024-03-15 13:35:00 2024-03-15 22:45:00        BSL   Royal Air Maroc   \n",
       "7656  2024-03-15 19:00:00 2024-03-16 23:15:00        OUD   Royal Air Maroc   \n",
       "2922  2024-03-15 16:05:00 2024-03-16 19:15:00        PFO            Iberia   \n",
       "\n",
       "        price  duration_s_ departure_tod arrival_tod  \n",
       "12599   412.0      38400.0       Morning     Evening  \n",
       "9918    315.0      94800.0     Afternoon   Afternoon  \n",
       "5249   1618.0     137700.0     Afternoon   Afternoon  \n",
       "4878    121.0      49200.0       Evening     Morning  \n",
       "2057    770.0     123480.0       Morning   Afternoon  \n",
       "8508    797.0     106200.0         Night       Night  \n",
       "642     211.0      69600.0         Night     Evening  \n",
       "11204   238.0      29400.0     Afternoon     Evening  \n",
       "7656    642.0     101700.0       Evening     Evening  \n",
       "2922    618.0      90600.0     Afternoon     Evening  "
      ]
     },
     "execution_count": 25,
     "metadata": {},
     "output_type": "execute_result"
    }
   ],
   "source": [
    "df.sample(10)"
   ]
  },
  {
   "cell_type": "code",
   "execution_count": 26,
   "metadata": {},
   "outputs": [],
   "source": [
    "df.to_csv(\"clean_flights.csv\", index=False)"
   ]
  }
 ],
 "metadata": {
  "kernelspec": {
   "display_name": "Python 3",
   "language": "python",
   "name": "python3"
  },
  "language_info": {
   "codemirror_mode": {
    "name": "ipython",
    "version": 3
   },
   "file_extension": ".py",
   "mimetype": "text/x-python",
   "name": "python",
   "nbconvert_exporter": "python",
   "pygments_lexer": "ipython3",
   "version": "3.11.2"
  }
 },
 "nbformat": 4,
 "nbformat_minor": 2
}
