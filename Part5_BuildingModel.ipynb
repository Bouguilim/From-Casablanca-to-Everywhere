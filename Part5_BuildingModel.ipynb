{
 "cells": [
  {
   "cell_type": "code",
   "execution_count": 173,
   "metadata": {},
   "outputs": [],
   "source": [
    "import pandas as pd\n",
    "import matplotlib.pyplot as plt\n",
    "\n",
    "from sklearn.model_selection import train_test_split\n",
    "from sklearn.ensemble import RandomForestRegressor\n",
    "from sklearn.metrics import mean_absolute_error, mean_squared_error, r2_score\n",
    "from sklearn.preprocessing import StandardScaler, OneHotEncoder\n",
    "from sklearn.compose import ColumnTransformer\n",
    "from sklearn.pipeline import Pipeline"
   ]
  },
  {
   "cell_type": "code",
   "execution_count": 174,
   "metadata": {},
   "outputs": [
    {
     "data": {
      "text/html": [
       "<div>\n",
       "<style scoped>\n",
       "    .dataframe tbody tr th:only-of-type {\n",
       "        vertical-align: middle;\n",
       "    }\n",
       "\n",
       "    .dataframe tbody tr th {\n",
       "        vertical-align: top;\n",
       "    }\n",
       "\n",
       "    .dataframe thead th {\n",
       "        text-align: right;\n",
       "    }\n",
       "</style>\n",
       "<table border=\"1\" class=\"dataframe\">\n",
       "  <thead>\n",
       "    <tr style=\"text-align: right;\">\n",
       "      <th></th>\n",
       "      <th>country</th>\n",
       "      <th>city</th>\n",
       "      <th>duration</th>\n",
       "      <th>stops</th>\n",
       "      <th>departure_time</th>\n",
       "      <th>arrival_time</th>\n",
       "      <th>airport_id</th>\n",
       "      <th>airline</th>\n",
       "      <th>price</th>\n",
       "      <th>duration_s_</th>\n",
       "      <th>...</th>\n",
       "      <th>population</th>\n",
       "      <th>area</th>\n",
       "      <th>pop_density</th>\n",
       "      <th>coastline</th>\n",
       "      <th>migration</th>\n",
       "      <th>infant_mortality</th>\n",
       "      <th>gdp</th>\n",
       "      <th>birthrate</th>\n",
       "      <th>deathrate</th>\n",
       "      <th>distance</th>\n",
       "    </tr>\n",
       "  </thead>\n",
       "  <tbody>\n",
       "    <tr>\n",
       "      <th>10987</th>\n",
       "      <td>United Kingdom</td>\n",
       "      <td>Glasgow</td>\n",
       "      <td>0 days 21:40:00</td>\n",
       "      <td>2.0</td>\n",
       "      <td>2024-03-15 19:00:00</td>\n",
       "      <td>2024-03-16 16:40:00</td>\n",
       "      <td>GLA</td>\n",
       "      <td>Iberia</td>\n",
       "      <td>355.0</td>\n",
       "      <td>78000.0</td>\n",
       "      <td>...</td>\n",
       "      <td>60609153</td>\n",
       "      <td>6.340814e+05</td>\n",
       "      <td>641.281524</td>\n",
       "      <td>5.08</td>\n",
       "      <td>2.19</td>\n",
       "      <td>5.16</td>\n",
       "      <td>27700.0</td>\n",
       "      <td>10.71</td>\n",
       "      <td>10.13</td>\n",
       "      <td>2489.68</td>\n",
       "    </tr>\n",
       "    <tr>\n",
       "      <th>6070</th>\n",
       "      <td>Japan</td>\n",
       "      <td>Osaka</td>\n",
       "      <td>0 days 23:00:00</td>\n",
       "      <td>2.0</td>\n",
       "      <td>2024-03-15 13:00:00</td>\n",
       "      <td>2024-03-16 21:00:00</td>\n",
       "      <td>KIX</td>\n",
       "      <td>Royal Air Maroc</td>\n",
       "      <td>659.0</td>\n",
       "      <td>82800.0</td>\n",
       "      <td>...</td>\n",
       "      <td>127463611</td>\n",
       "      <td>9.785889e+05</td>\n",
       "      <td>873.862626</td>\n",
       "      <td>7.87</td>\n",
       "      <td>0.00</td>\n",
       "      <td>3.26</td>\n",
       "      <td>28200.0</td>\n",
       "      <td>9.37</td>\n",
       "      <td>9.16</td>\n",
       "      <td>11497.12</td>\n",
       "    </tr>\n",
       "    <tr>\n",
       "      <th>3636</th>\n",
       "      <td>Finland</td>\n",
       "      <td>Vaasa</td>\n",
       "      <td>0 days 09:40:00</td>\n",
       "      <td>2.0</td>\n",
       "      <td>2024-03-15 13:25:00</td>\n",
       "      <td>2024-03-16 01:05:00</td>\n",
       "      <td>VAA</td>\n",
       "      <td>Royal Air Maroc</td>\n",
       "      <td>585.0</td>\n",
       "      <td>34800.0</td>\n",
       "      <td>...</td>\n",
       "      <td>5231372</td>\n",
       "      <td>8.757922e+05</td>\n",
       "      <td>40.144845</td>\n",
       "      <td>0.37</td>\n",
       "      <td>0.95</td>\n",
       "      <td>3.57</td>\n",
       "      <td>27400.0</td>\n",
       "      <td>10.45</td>\n",
       "      <td>9.86</td>\n",
       "      <td>3856.04</td>\n",
       "    </tr>\n",
       "    <tr>\n",
       "      <th>8352</th>\n",
       "      <td>Philippines</td>\n",
       "      <td>Iloilo</td>\n",
       "      <td>1 days 00:45:00</td>\n",
       "      <td>2.0</td>\n",
       "      <td>2024-03-15 09:30:00</td>\n",
       "      <td>2024-03-16 18:15:00</td>\n",
       "      <td>ILO</td>\n",
       "      <td>Etihad Airways</td>\n",
       "      <td>962.0</td>\n",
       "      <td>89100.0</td>\n",
       "      <td>...</td>\n",
       "      <td>89468677</td>\n",
       "      <td>7.769970e+05</td>\n",
       "      <td>772.335018</td>\n",
       "      <td>12.10</td>\n",
       "      <td>-1.50</td>\n",
       "      <td>23.51</td>\n",
       "      <td>4600.0</td>\n",
       "      <td>24.89</td>\n",
       "      <td>5.41</td>\n",
       "      <td>12807.74</td>\n",
       "    </tr>\n",
       "    <tr>\n",
       "      <th>7173</th>\n",
       "      <td>Morocco</td>\n",
       "      <td>Oujda</td>\n",
       "      <td>0 days 20:50:00</td>\n",
       "      <td>2.0</td>\n",
       "      <td>2024-03-15 02:25:00</td>\n",
       "      <td>2024-03-15 23:15:00</td>\n",
       "      <td>OUD</td>\n",
       "      <td>Lufthansa</td>\n",
       "      <td>340.0</td>\n",
       "      <td>75000.0</td>\n",
       "      <td>...</td>\n",
       "      <td>33241259</td>\n",
       "      <td>1.156560e+06</td>\n",
       "      <td>192.695256</td>\n",
       "      <td>0.41</td>\n",
       "      <td>-0.98</td>\n",
       "      <td>41.62</td>\n",
       "      <td>4000.0</td>\n",
       "      <td>21.98</td>\n",
       "      <td>5.58</td>\n",
       "      <td>537.81</td>\n",
       "    </tr>\n",
       "  </tbody>\n",
       "</table>\n",
       "<p>5 rows × 23 columns</p>\n",
       "</div>"
      ],
      "text/plain": [
       "              country     city         duration  stops       departure_time  \\\n",
       "10987  United Kingdom  Glasgow  0 days 21:40:00    2.0  2024-03-15 19:00:00   \n",
       "6070            Japan    Osaka  0 days 23:00:00    2.0  2024-03-15 13:00:00   \n",
       "3636          Finland    Vaasa  0 days 09:40:00    2.0  2024-03-15 13:25:00   \n",
       "8352      Philippines   Iloilo  1 days 00:45:00    2.0  2024-03-15 09:30:00   \n",
       "7173          Morocco    Oujda  0 days 20:50:00    2.0  2024-03-15 02:25:00   \n",
       "\n",
       "              arrival_time airport_id          airline  price  duration_s_  \\\n",
       "10987  2024-03-16 16:40:00        GLA           Iberia  355.0      78000.0   \n",
       "6070   2024-03-16 21:00:00        KIX  Royal Air Maroc  659.0      82800.0   \n",
       "3636   2024-03-16 01:05:00        VAA  Royal Air Maroc  585.0      34800.0   \n",
       "8352   2024-03-16 18:15:00        ILO   Etihad Airways  962.0      89100.0   \n",
       "7173   2024-03-15 23:15:00        OUD        Lufthansa  340.0      75000.0   \n",
       "\n",
       "       ... population          area pop_density  coastline  migration  \\\n",
       "10987  ...   60609153  6.340814e+05  641.281524       5.08       2.19   \n",
       "6070   ...  127463611  9.785889e+05  873.862626       7.87       0.00   \n",
       "3636   ...    5231372  8.757922e+05   40.144845       0.37       0.95   \n",
       "8352   ...   89468677  7.769970e+05  772.335018      12.10      -1.50   \n",
       "7173   ...   33241259  1.156560e+06  192.695256       0.41      -0.98   \n",
       "\n",
       "       infant_mortality      gdp  birthrate  deathrate  distance  \n",
       "10987              5.16  27700.0      10.71      10.13   2489.68  \n",
       "6070               3.26  28200.0       9.37       9.16  11497.12  \n",
       "3636               3.57  27400.0      10.45       9.86   3856.04  \n",
       "8352              23.51   4600.0      24.89       5.41  12807.74  \n",
       "7173              41.62   4000.0      21.98       5.58    537.81  \n",
       "\n",
       "[5 rows x 23 columns]"
      ]
     },
     "execution_count": 174,
     "metadata": {},
     "output_type": "execute_result"
    }
   ],
   "source": [
    "df = pd.read_csv(\"DATA.csv\")\n",
    "df.sample(5)"
   ]
  },
  {
   "cell_type": "code",
   "execution_count": 175,
   "metadata": {},
   "outputs": [],
   "source": [
    "X = df.drop(['city', 'duration', 'departure_time', 'arrival_time', 'airport_id', 'price'], axis=1)\n",
    "y = df['price']"
   ]
  },
  {
   "cell_type": "code",
   "execution_count": 176,
   "metadata": {},
   "outputs": [
    {
     "data": {
      "text/plain": [
       "(9401, 16)"
      ]
     },
     "metadata": {},
     "output_type": "display_data"
    },
    {
     "data": {
      "text/plain": [
       "(3134, 16)"
      ]
     },
     "metadata": {},
     "output_type": "display_data"
    },
    {
     "data": {
      "text/plain": [
       "(9401,)"
      ]
     },
     "metadata": {},
     "output_type": "display_data"
    },
    {
     "data": {
      "text/plain": [
       "(3134,)"
      ]
     },
     "metadata": {},
     "output_type": "display_data"
    }
   ],
   "source": [
    "X_train, X_test, y_train, y_test = train_test_split(X,\n",
    "                                                    y,\n",
    "                                                    test_size=.25,\n",
    "                                                    random_state=77,\n",
    "                                                    stratify=X[['country']])\n",
    "\n",
    "X.drop(columns=['country'], inplace=True)\n",
    "X_train = X_train.drop(columns=['country'])\n",
    "X_test = X_test.drop(columns=['country'])\n",
    "\n",
    "display(X_train.shape)\n",
    "display(X_test.shape)\n",
    "display(y_train.shape)\n",
    "display(y_test.shape)"
   ]
  },
  {
   "cell_type": "code",
   "execution_count": 177,
   "metadata": {},
   "outputs": [],
   "source": [
    "numeric_features = [\"stops\", \"duration_s_\", \"population\", \"area\", \"distance\", \"migration\", \"pop_density\", \"coastline\", \"gdp\", \"infant_mortality\", \"deathrate\", \"birthrate\"]\n",
    "categorical_features = [\"airline\", \"departure_tod\", \"arrival_tod\", \"region\"]"
   ]
  },
  {
   "cell_type": "code",
   "execution_count": 178,
   "metadata": {},
   "outputs": [],
   "source": [
    "numeric_transformer = Pipeline(steps=[\n",
    "    ('scaler', StandardScaler())\n",
    "])\n",
    "\n",
    "categorical_transformer = Pipeline(steps=[\n",
    "    ('onehot', OneHotEncoder())\n",
    "])\n",
    "\n",
    "preprocessor = ColumnTransformer(\n",
    "    transformers=[\n",
    "        ('num', numeric_transformer, numeric_features),\n",
    "        ('cat', categorical_transformer, categorical_features)\n",
    "    ])"
   ]
  },
  {
   "cell_type": "code",
   "execution_count": 194,
   "metadata": {},
   "outputs": [
    {
     "name": "stdout",
     "output_type": "stream",
     "text": [
      "Fitting ...\n",
      "Scoring ...\n",
      "MAE : 75.29731409143477\n",
      "MSR : 27608.754493106826\n",
      "R2  : 0.8771930135388409\n"
     ]
    }
   ],
   "source": [
    "model = RandomForestRegressor(random_state=77)\n",
    "\n",
    "print(f'Fitting ...')\n",
    "    \n",
    "regression_pipeline = Pipeline(steps=[\n",
    "    ('preprocessor', preprocessor),\n",
    "    ('regressor', model) \n",
    "])\n",
    "\n",
    "regression_pipeline.fit(X_train, y_train)\n",
    "    \n",
    "print(f'Scoring ...')\n",
    "    \n",
    "y_pred = regression_pipeline.predict(X_test)\n",
    "    \n",
    "print(f\"MAE : {mean_absolute_error(y_test, y_pred)}\",\n",
    "      f\"MSR : {mean_squared_error(y_test, y_pred)}\",\n",
    "      f\"R2  : {r2_score(y_test, y_pred)}\", sep='\\n')\n",
    "\n",
    "# {'score': 0.8738532259471257, 'mae': 75.58016112182416, 'msr': 28359.586170813967, 'R2': 0.8738532259471257}"
   ]
  },
  {
   "cell_type": "code",
   "execution_count": 184,
   "metadata": {},
   "outputs": [
    {
     "name": "stdout",
     "output_type": "stream",
     "text": [
      "Variable: arrival_tod          Importance: 0.5\n",
      "Variable: airline              Importance: 0.17\n",
      "Variable: stops                Importance: 0.03\n",
      "Variable: departure_tod        Importance: 0.03\n",
      "Variable: area                 Importance: 0.03\n",
      "Variable: migration            Importance: 0.03\n",
      "Variable: duration_s_          Importance: 0.02\n",
      "Variable: pop_density          Importance: 0.02\n",
      "Variable: coastline            Importance: 0.02\n",
      "Variable: infant_mortality     Importance: 0.02\n",
      "Variable: region               Importance: 0.01\n",
      "Variable: population           Importance: 0.01\n",
      "Variable: deathrate            Importance: 0.01\n",
      "Variable: distance             Importance: 0.01\n",
      "Variable: gdp                  Importance: 0.0\n",
      "Variable: birthrate            Importance: 0.0\n"
     ]
    },
    {
     "data": {
      "image/png": "[encoded data removed]",
      "text/plain": [
       "<Figure size 1000x600 with 1 Axes>"
      ]
     },
     "metadata": {},
     "output_type": "display_data"
    }
   ],
   "source": [
    "# Let's get features importance in the model\n",
    "importances = list(regression_pipeline.named_steps['regressor'].feature_importances_)\n",
    "feature_list = list(X_train.columns)\n",
    "feature_importances = [(feature, round(importance, 2)) for feature, importance in zip(feature_list, importances)]\n",
    "feature_importances = sorted(feature_importances, key = lambda x: x[1], reverse=True)\n",
    "for pair in feature_importances :\n",
    "    print('Variable: {:20} Importance: {}'.format(*pair))\n",
    "\n",
    "features, importances = zip(*feature_importances)\n",
    "\n",
    "# Let's vizsalisze it\n",
    "plt.figure(figsize=(10, 6))\n",
    "plt.barh(range(len(features)), importances, align='center')\n",
    "plt.yticks(range(len(features)), features)\n",
    "plt.xlabel('Feature Importance')\n",
    "plt.ylabel('Features')\n",
    "plt.title('Feature Importances')\n",
    "plt.show()"
   ]
  },
  {
   "cell_type": "code",
   "execution_count": 190,
   "metadata": {},
   "outputs": [
    {
     "name": "stdout",
     "output_type": "stream",
     "text": [
      "MAE :  34.41721405735941\n",
      "R2  :  0.96800573856673\n"
     ]
    }
   ],
   "source": [
    "# Results on the training data\n",
    "y_train_pred = regression_pipeline.predict(X_train)\n",
    "\n",
    "print(\"MAE : \", mean_absolute_error(y_train, y_train_pred))\n",
    "print(\"R2  : \", r2_score(y_train, y_train_pred))"
   ]
  }
 ],
 "metadata": {
  "kernelspec": {
   "display_name": "Python 3",
   "language": "python",
   "name": "python3"
  },
  "language_info": {
   "codemirror_mode": {
    "name": "ipython",
    "version": 3
   },
   "file_extension": ".py",
   "mimetype": "text/x-python",
   "name": "python",
   "nbconvert_exporter": "python",
   "pygments_lexer": "ipython3",
   "version": "3.11.2"
  }
 },
 "nbformat": 4,
 "nbformat_minor": 2
}
